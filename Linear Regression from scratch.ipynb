{
 "cells": [
  {
   "cell_type": "code",
   "execution_count": 1,
   "id": "79ab0d7f",
   "metadata": {},
   "outputs": [],
   "source": [
    "import random\n",
    "import numpy as np\n",
    "import matplotlib.pyplot as plt\n",
    "import pandas as pd"
   ]
  },
  {
   "cell_type": "code",
   "execution_count": 2,
   "id": "70520c17",
   "metadata": {},
   "outputs": [
    {
     "data": {
      "text/plain": [
       "array([ 1.,  2.,  3.,  4.,  5.,  6.,  7.,  8.,  9., 10.])"
      ]
     },
     "execution_count": 2,
     "metadata": {},
     "output_type": "execute_result"
    }
   ],
   "source": [
    "X=np.linspace(1,10,10)\n",
    "X"
   ]
  },
  {
   "cell_type": "code",
   "execution_count": 3,
   "id": "eb20074c",
   "metadata": {},
   "outputs": [
    {
     "data": {
      "text/plain": [
       "array([1, 3, 5, 7, 9])"
      ]
     },
     "execution_count": 3,
     "metadata": {},
     "output_type": "execute_result"
    }
   ],
   "source": [
    "y=np.arange(1,10,2)\n",
    "y"
   ]
  },
  {
   "cell_type": "code",
   "execution_count": 4,
   "id": "23de156d",
   "metadata": {},
   "outputs": [
    {
     "data": {
      "text/plain": [
       "3"
      ]
     },
     "execution_count": 4,
     "metadata": {},
     "output_type": "execute_result"
    }
   ],
   "source": [
    "np.random.randint(1,10)"
   ]
  },
  {
   "cell_type": "markdown",
   "id": "167a3ecf",
   "metadata": {},
   "source": [
    "## Linear Regression From Scratch"
   ]
  },
  {
   "cell_type": "code",
   "execution_count": 15,
   "id": "6a6604b6",
   "metadata": {},
   "outputs": [],
   "source": [
    "# Generating random data points\n",
    "np.random.seed(100)\n",
    "X=[random.randint(1,11) for i in range(10)]\n",
    "y=[random.randint(4,9) for i in range(10)]"
   ]
  },
  {
   "cell_type": "code",
   "execution_count": 16,
   "id": "0ae86d26",
   "metadata": {},
   "outputs": [],
   "source": [
    "X = sorted(X)"
   ]
  },
  {
   "cell_type": "code",
   "execution_count": 18,
   "id": "2dbb4147",
   "metadata": {},
   "outputs": [
    {
     "data": {
      "text/plain": [
       "[7, 7, 4, 4, 5, 4, 9, 5, 8, 6]"
      ]
     },
     "execution_count": 18,
     "metadata": {},
     "output_type": "execute_result"
    }
   ],
   "source": [
    "y"
   ]
  },
  {
   "cell_type": "code",
   "execution_count": 19,
   "id": "510b4c49",
   "metadata": {},
   "outputs": [],
   "source": [
    "df = pd.DataFrame(columns=['X','y'])\n",
    "df['X']=X\n",
    "df['y']=y"
   ]
  },
  {
   "cell_type": "code",
   "execution_count": 20,
   "id": "4b129dba",
   "metadata": {},
   "outputs": [
    {
     "data": {
      "text/plain": [
       "Text(0, 0.5, 'y')"
      ]
     },
     "execution_count": 20,
     "metadata": {},
     "output_type": "execute_result"
    },
    {
     "data": {
      "image/png": "[encoded data removed]",
      "text/plain": [
       "<Figure size 432x288 with 1 Axes>"
      ]
     },
     "metadata": {
      "needs_background": "light"
     },
     "output_type": "display_data"
    }
   ],
   "source": [
    "plt.scatter(df.X,df.y)\n",
    "plt.xlabel('X')\n",
    "plt.ylabel('y')"
   ]
  },
  {
   "cell_type": "code",
   "execution_count": 21,
   "id": "fddf6e8a",
   "metadata": {},
   "outputs": [
    {
     "data": {
      "text/html": [
       "<div>\n",
       "<style scoped>\n",
       "    .dataframe tbody tr th:only-of-type {\n",
       "        vertical-align: middle;\n",
       "    }\n",
       "\n",
       "    .dataframe tbody tr th {\n",
       "        vertical-align: top;\n",
       "    }\n",
       "\n",
       "    .dataframe thead th {\n",
       "        text-align: right;\n",
       "    }\n",
       "</style>\n",
       "<table border=\"1\" class=\"dataframe\">\n",
       "  <thead>\n",
       "    <tr style=\"text-align: right;\">\n",
       "      <th></th>\n",
       "      <th>X</th>\n",
       "      <th>y</th>\n",
       "    </tr>\n",
       "  </thead>\n",
       "  <tbody>\n",
       "    <tr>\n",
       "      <th>0</th>\n",
       "      <td>2</td>\n",
       "      <td>7</td>\n",
       "    </tr>\n",
       "    <tr>\n",
       "      <th>1</th>\n",
       "      <td>3</td>\n",
       "      <td>7</td>\n",
       "    </tr>\n",
       "    <tr>\n",
       "      <th>2</th>\n",
       "      <td>4</td>\n",
       "      <td>4</td>\n",
       "    </tr>\n",
       "    <tr>\n",
       "      <th>3</th>\n",
       "      <td>5</td>\n",
       "      <td>4</td>\n",
       "    </tr>\n",
       "    <tr>\n",
       "      <th>4</th>\n",
       "      <td>5</td>\n",
       "      <td>5</td>\n",
       "    </tr>\n",
       "  </tbody>\n",
       "</table>\n",
       "</div>"
      ],
      "text/plain": [
       "   X  y\n",
       "0  2  7\n",
       "1  3  7\n",
       "2  4  4\n",
       "3  5  4\n",
       "4  5  5"
      ]
     },
     "execution_count": 21,
     "metadata": {},
     "output_type": "execute_result"
    }
   ],
   "source": [
    "df.head()"
   ]
  },
  {
   "cell_type": "code",
   "execution_count": 22,
   "id": "6dbd6d20",
   "metadata": {},
   "outputs": [
    {
     "data": {
      "text/plain": [
       "59"
      ]
     },
     "execution_count": 22,
     "metadata": {},
     "output_type": "execute_result"
    }
   ],
   "source": [
    "y_sum=df['y'].sum()\n",
    "y_sum"
   ]
  },
  {
   "cell_type": "code",
   "execution_count": 23,
   "id": "ba2338f6",
   "metadata": {},
   "outputs": [
    {
     "data": {
      "text/plain": [
       "562"
      ]
     },
     "execution_count": 23,
     "metadata": {},
     "output_type": "execute_result"
    }
   ],
   "source": [
    "x_sq_sum=(df['X']**2).sum()\n",
    "x_sq_sum"
   ]
  },
  {
   "cell_type": "code",
   "execution_count": 24,
   "id": "0e81f063",
   "metadata": {},
   "outputs": [
    {
     "data": {
      "text/plain": [
       "409"
      ]
     },
     "execution_count": 24,
     "metadata": {},
     "output_type": "execute_result"
    }
   ],
   "source": [
    "xy=(df['X']*df['y']).sum()\n",
    "xy"
   ]
  },
  {
   "cell_type": "code",
   "execution_count": 25,
   "id": "a6b974ba",
   "metadata": {},
   "outputs": [
    {
     "data": {
      "text/plain": [
       "68"
      ]
     },
     "execution_count": 25,
     "metadata": {},
     "output_type": "execute_result"
    }
   ],
   "source": [
    "x_sum=df['X'].sum()\n",
    "x_sum"
   ]
  },
  {
   "cell_type": "code",
   "execution_count": 27,
   "id": "4f6b4593",
   "metadata": {},
   "outputs": [
    {
     "data": {
      "text/plain": [
       "68"
      ]
     },
     "execution_count": 27,
     "metadata": {},
     "output_type": "execute_result"
    }
   ],
   "source": [
    "# x sum squared\n",
    "x_sum_sq=(df['X'].sum())**2\n",
    "x_sum"
   ]
  },
  {
   "cell_type": "markdown",
   "id": "ff442eac",
   "metadata": {},
   "source": [
    "# Finding The Values Of m And c"
   ]
  },
  {
   "cell_type": "code",
   "execution_count": 28,
   "id": "f6eff488",
   "metadata": {},
   "outputs": [
    {
     "data": {
      "text/plain": [
       "-1.3161004431314622"
      ]
     },
     "execution_count": 28,
     "metadata": {},
     "output_type": "execute_result"
    }
   ],
   "source": [
    "# finding slope m\n",
    "m =(((y_sum*x_sq_sum)-(x_sum*xy))/((x_sq_sum)-(x_sum_sq)))\n",
    "m"
   ]
  },
  {
   "cell_type": "code",
   "execution_count": 29,
   "id": "e00b3d4e",
   "metadata": {},
   "outputs": [
    {
     "data": {
      "text/plain": [
       "10"
      ]
     },
     "execution_count": 29,
     "metadata": {},
     "output_type": "execute_result"
    }
   ],
   "source": [
    "n = len(df)\n",
    "n"
   ]
  },
  {
   "cell_type": "code",
   "execution_count": 30,
   "id": "99d8ff9a",
   "metadata": {},
   "outputs": [
    {
     "data": {
      "text/plain": [
       "0.0783132530120482"
      ]
     },
     "execution_count": 30,
     "metadata": {},
     "output_type": "execute_result"
    }
   ],
   "source": [
    "# finding bias b\n",
    "b = (((n*xy)-(x_sum*y_sum))/((n*x_sq_sum)-(x_sum_sq)))\n",
    "b"
   ]
  },
  {
   "cell_type": "markdown",
   "id": "0e03f1c5",
   "metadata": {},
   "source": [
    "## Fit function"
   ]
  },
  {
   "cell_type": "code",
   "execution_count": 31,
   "id": "131bf2b6",
   "metadata": {},
   "outputs": [],
   "source": [
    "# func\n",
    "def fit(X,y):\n",
    "    y_sum=df['y'].sum()\n",
    "    x_sq_sum=(df['X']**2).sum()\n",
    "    xy=(df['X']*df['y']).sum()\n",
    "    x_sum=df['X'].sum()\n",
    "    x_sum_sq=(df['X'].sum())**2\n",
    "    m = (((y_sum*x_sq_sum)-(x_sum*xy))/((x_sq_sum)-(x_sum_sq)))\n",
    "    b = (((n*xy)-(x_sum*y_sum))/((n*x_sq_sum)-(x_sum_sq)))\n",
    "    return (m,b)"
   ]
  },
  {
   "cell_type": "markdown",
   "id": "5354c5e3",
   "metadata": {},
   "source": [
    "## Prediction"
   ]
  },
  {
   "cell_type": "code",
   "execution_count": 32,
   "id": "ba6d13d1",
   "metadata": {},
   "outputs": [
    {
     "data": {
      "text/plain": [
       "0    -2.553888\n",
       "1    -3.869988\n",
       "2    -5.186089\n",
       "3    -6.502189\n",
       "4    -6.502189\n",
       "5   -11.766591\n",
       "6   -11.766591\n",
       "7   -13.082691\n",
       "8   -13.082691\n",
       "9   -14.398792\n",
       "Name: X, dtype: float64"
      ]
     },
     "execution_count": 32,
     "metadata": {},
     "output_type": "execute_result"
    }
   ],
   "source": [
    "pred = m*df['X']+b\n",
    "pred"
   ]
  },
  {
   "cell_type": "code",
   "execution_count": 33,
   "id": "ba5d80d7",
   "metadata": {},
   "outputs": [],
   "source": [
    "df['y_hat']=pred"
   ]
  },
  {
   "cell_type": "code",
   "execution_count": 46,
   "id": "55ae753b",
   "metadata": {},
   "outputs": [
    {
     "data": {
      "text/html": [
       "<div>\n",
       "<style scoped>\n",
       "    .dataframe tbody tr th:only-of-type {\n",
       "        vertical-align: middle;\n",
       "    }\n",
       "\n",
       "    .dataframe tbody tr th {\n",
       "        vertical-align: top;\n",
       "    }\n",
       "\n",
       "    .dataframe thead th {\n",
       "        text-align: right;\n",
       "    }\n",
       "</style>\n",
       "<table border=\"1\" class=\"dataframe\">\n",
       "  <thead>\n",
       "    <tr style=\"text-align: right;\">\n",
       "      <th></th>\n",
       "      <th>X</th>\n",
       "      <th>y</th>\n",
       "      <th>y_hat</th>\n",
       "    </tr>\n",
       "  </thead>\n",
       "  <tbody>\n",
       "    <tr>\n",
       "      <th>0</th>\n",
       "      <td>1</td>\n",
       "      <td>7</td>\n",
       "      <td>-3.697917</td>\n",
       "    </tr>\n",
       "    <tr>\n",
       "      <th>1</th>\n",
       "      <td>1</td>\n",
       "      <td>7</td>\n",
       "      <td>-3.697917</td>\n",
       "    </tr>\n",
       "    <tr>\n",
       "      <th>2</th>\n",
       "      <td>1</td>\n",
       "      <td>7</td>\n",
       "      <td>-3.697917</td>\n",
       "    </tr>\n",
       "    <tr>\n",
       "      <th>3</th>\n",
       "      <td>3</td>\n",
       "      <td>8</td>\n",
       "      <td>-10.989583</td>\n",
       "    </tr>\n",
       "    <tr>\n",
       "      <th>4</th>\n",
       "      <td>6</td>\n",
       "      <td>6</td>\n",
       "      <td>-21.927083</td>\n",
       "    </tr>\n",
       "  </tbody>\n",
       "</table>\n",
       "</div>"
      ],
      "text/plain": [
       "   X  y      y_hat\n",
       "0  1  7  -3.697917\n",
       "1  1  7  -3.697917\n",
       "2  1  7  -3.697917\n",
       "3  3  8 -10.989583\n",
       "4  6  6 -21.927083"
      ]
     },
     "execution_count": 46,
     "metadata": {},
     "output_type": "execute_result"
    }
   ],
   "source": [
    "df.head()"
   ]
  },
  {
   "cell_type": "code",
   "execution_count": 34,
   "id": "9520c580",
   "metadata": {},
   "outputs": [
    {
     "data": {
      "text/plain": [
       "240.38249172740325"
      ]
     },
     "execution_count": 34,
     "metadata": {},
     "output_type": "execute_result"
    }
   ],
   "source": [
    "# FINDING MSE\n",
    "MSE = ((1/n)*(((df['y_hat']-df['y'])**2).sum()))\n",
    "MSE"
   ]
  },
  {
   "cell_type": "markdown",
   "id": "28eb6c1b",
   "metadata": {},
   "source": [
    "## Separating training and testing"
   ]
  },
  {
   "cell_type": "code",
   "execution_count": 35,
   "id": "f0214474",
   "metadata": {},
   "outputs": [
    {
     "data": {
      "text/plain": [
       "0     2\n",
       "1     3\n",
       "2     4\n",
       "3     5\n",
       "4     5\n",
       "5     9\n",
       "6     9\n",
       "7    10\n",
       "Name: X, dtype: int64"
      ]
     },
     "execution_count": 35,
     "metadata": {},
     "output_type": "execute_result"
    }
   ],
   "source": [
    "X_train = df['X'].iloc[0:8]\n",
    "X_train"
   ]
  },
  {
   "cell_type": "code",
   "execution_count": 36,
   "id": "4e315971",
   "metadata": {},
   "outputs": [
    {
     "data": {
      "text/plain": [
       "0    7\n",
       "1    7\n",
       "2    4\n",
       "3    4\n",
       "4    5\n",
       "5    4\n",
       "6    9\n",
       "7    5\n",
       "Name: y, dtype: int64"
      ]
     },
     "execution_count": 36,
     "metadata": {},
     "output_type": "execute_result"
    }
   ],
   "source": [
    "y_train = df['y'].iloc[0:8]\n",
    "y_train"
   ]
  },
  {
   "cell_type": "code",
   "execution_count": 37,
   "id": "a1259380",
   "metadata": {},
   "outputs": [
    {
     "data": {
      "text/plain": [
       "8    10\n",
       "9    11\n",
       "Name: X, dtype: int64"
      ]
     },
     "execution_count": 37,
     "metadata": {},
     "output_type": "execute_result"
    }
   ],
   "source": [
    "X_test = df['X'].iloc[8:]\n",
    "X_test"
   ]
  },
  {
   "cell_type": "code",
   "execution_count": 38,
   "id": "20041b2c",
   "metadata": {},
   "outputs": [
    {
     "data": {
      "text/plain": [
       "8    8\n",
       "9    6\n",
       "Name: y, dtype: int64"
      ]
     },
     "execution_count": 38,
     "metadata": {},
     "output_type": "execute_result"
    }
   ],
   "source": [
    "y_test = df['y'].iloc[8:]\n",
    "y_test"
   ]
  },
  {
   "cell_type": "markdown",
   "id": "410be961",
   "metadata": {},
   "source": [
    "## Fitting/training on training data"
   ]
  },
  {
   "cell_type": "code",
   "execution_count": 39,
   "id": "f6ccaa49",
   "metadata": {},
   "outputs": [],
   "source": [
    "m_train,b_train = fit(X_train,y_train)"
   ]
  },
  {
   "cell_type": "code",
   "execution_count": 40,
   "id": "85962759",
   "metadata": {},
   "outputs": [
    {
     "data": {
      "text/plain": [
       "(-1.3161004431314622, 0.0783132530120482)"
      ]
     },
     "execution_count": 40,
     "metadata": {},
     "output_type": "execute_result"
    }
   ],
   "source": [
    "m_train,b_train"
   ]
  },
  {
   "cell_type": "code",
   "execution_count": 41,
   "id": "46758be3",
   "metadata": {},
   "outputs": [],
   "source": [
    "df_train = pd.DataFrame(columns=['X','y'])\n",
    "df_train['X']=X_train\n",
    "df_train['y']=y_train"
   ]
  },
  {
   "cell_type": "code",
   "execution_count": 42,
   "id": "7e21a1cc",
   "metadata": {},
   "outputs": [
    {
     "data": {
      "text/plain": [
       "0    -2.553888\n",
       "1    -3.869988\n",
       "2    -5.186089\n",
       "3    -6.502189\n",
       "4    -6.502189\n",
       "5   -11.766591\n",
       "6   -11.766591\n",
       "7   -13.082691\n",
       "Name: y_hat, dtype: float64"
      ]
     },
     "execution_count": 42,
     "metadata": {},
     "output_type": "execute_result"
    }
   ],
   "source": [
    "df_train['y_hat'] = m*df['X']+b\n",
    "df_train['y_hat']"
   ]
  },
  {
   "cell_type": "markdown",
   "id": "da40484c",
   "metadata": {},
   "source": [
    "## Finding MSE for training data"
   ]
  },
  {
   "cell_type": "code",
   "execution_count": 41,
   "id": "a2e9fde5",
   "metadata": {},
   "outputs": [
    {
     "data": {
      "text/plain": [
       "534.3371777221888"
      ]
     },
     "execution_count": 41,
     "metadata": {},
     "output_type": "execute_result"
    }
   ],
   "source": [
    "# FINDING MSE\n",
    "MSE_train = ((1/n)*(((df_train['y_hat']-df_train['y'])**2).sum()))\n",
    "MSE_train"
   ]
  },
  {
   "cell_type": "markdown",
   "id": "5a25df7b",
   "metadata": {},
   "source": [
    "## Fitting/training on training data"
   ]
  },
  {
   "cell_type": "code",
   "execution_count": 42,
   "id": "a56d8170",
   "metadata": {},
   "outputs": [],
   "source": [
    "m_test,b_test = fit(X_test,y_test)"
   ]
  },
  {
   "cell_type": "code",
   "execution_count": 43,
   "id": "10c87c11",
   "metadata": {},
   "outputs": [
    {
     "data": {
      "text/plain": [
       "(-3.5752005347593583, -0.15117104329311568)"
      ]
     },
     "execution_count": 43,
     "metadata": {},
     "output_type": "execute_result"
    }
   ],
   "source": [
    "m_test,b_test"
   ]
  },
  {
   "cell_type": "code",
   "execution_count": 44,
   "id": "6366e8ea",
   "metadata": {},
   "outputs": [],
   "source": [
    "df_test = pd.DataFrame(columns=['X','y'])\n",
    "df_test['X']=X_test\n",
    "df_test['y']=y_test"
   ]
  },
  {
   "cell_type": "code",
   "execution_count": 45,
   "id": "732eb94e",
   "metadata": {},
   "outputs": [
    {
     "data": {
      "text/plain": [
       "8   -39.478377\n",
       "9   -39.478377\n",
       "Name: y_hat, dtype: float64"
      ]
     },
     "execution_count": 45,
     "metadata": {},
     "output_type": "execute_result"
    }
   ],
   "source": [
    "df_test['y_hat'] = m*df['X']+b\n",
    "df_test['y_hat']"
   ]
  },
  {
   "cell_type": "markdown",
   "id": "af158f6b",
   "metadata": {},
   "source": [
    "## MSE for testing data"
   ]
  },
  {
   "cell_type": "code",
   "execution_count": 46,
   "id": "6cdb0f80",
   "metadata": {},
   "outputs": [
    {
     "data": {
      "text/plain": [
       "413.85655355822723"
      ]
     },
     "execution_count": 46,
     "metadata": {},
     "output_type": "execute_result"
    }
   ],
   "source": [
    "# FINDING MSE\n",
    "MSE_train = ((1/n)*(((df_test['y_hat']-df_test['y'])**2).sum()))\n",
    "MSE_train"
   ]
  },
  {
   "cell_type": "markdown",
   "id": "dc9a8eca",
   "metadata": {},
   "source": [
    "## Plotting Graph For Visualization"
   ]
  },
  {
   "cell_type": "code",
   "execution_count": 160,
   "id": "25d26039",
   "metadata": {},
   "outputs": [],
   "source": [
    "# import matplotlib.pyplot as plt\n",
    "# import numpy as np\n",
    "\n",
    "# xpoints = np.array(X)\n",
    "# ypoints = np.array(y)\n",
    "# y_hat = np.array(df['y_hat'])\n",
    "# plt.plot(xpoints, ypoints)\n",
    "# plt.show()"
   ]
  },
  {
   "cell_type": "code",
   "execution_count": 47,
   "id": "8ca9f9f4",
   "metadata": {},
   "outputs": [
    {
     "data": {
      "text/plain": [
       "Text(0, 0.5, 'Predicted Line')"
      ]
     },
     "execution_count": 47,
     "metadata": {},
     "output_type": "execute_result"
    },
    {
     "data": {
      "image/png": "[encoded data removed]",
      "text/plain": [
       "<Figure size 432x288 with 2 Axes>"
      ]
     },
     "metadata": {
      "needs_background": "light"
     },
     "output_type": "display_data"
    }
   ],
   "source": [
    "# plot of original data values\n",
    "xpoints = np.array(X)\n",
    "ypoints = np.array(y)\n",
    "\n",
    "plt.subplot(2, 1, 1)\n",
    "# plt.plot(xpoints,ypoints)\n",
    "plt.scatter(xpoints,ypoints)\n",
    "plt.ylabel('Original')\n",
    "\n",
    "x1 = np.array(X)\n",
    "y1 = np.array(df['y_hat'])\n",
    "\n",
    "plt.subplot(2, 1, 2)\n",
    "plt.scatter(xpoints,ypoints)\n",
    "plt.plot(x1,y1)\n",
    "plt.ylabel('Predicted Line')\n"
   ]
  },
  {
   "cell_type": "markdown",
   "id": "62c5d23f",
   "metadata": {},
   "source": [
    "## Gradient Descent"
   ]
  },
  {
   "cell_type": "code",
   "execution_count": 211,
   "id": "3d7fb5ca",
   "metadata": {},
   "outputs": [],
   "source": [
    "def update_weights(X,y,W,b,learning_rate):\n",
    "    Y_pred = df['X']*W+b\n",
    "    m=len(X)\n",
    "          \n",
    "        # calculate gradients  \n",
    "      \n",
    "    dW = - ( 2 * ( df['X'] ).dot( y - Y_pred )  ) / m\n",
    "       \n",
    "    db = - 2 * np.sum( y - Y_pred ) / m \n",
    "          \n",
    "        # update weights\n",
    "      \n",
    "    W = W - learning_rate * dW\n",
    "      \n",
    "    b = b - learning_rate * db\n",
    "    return (W,b)"
   ]
  },
  {
   "cell_type": "code",
   "execution_count": 212,
   "id": "3d064aea",
   "metadata": {},
   "outputs": [],
   "source": [
    "def fit2(X,y,m,b):\n",
    "    iterations=100\n",
    "    for i in range( iterations ) :\n",
    "        W,b = update_weights(X,y,m,b,0.01)\n",
    "    return W,b"
   ]
  },
  {
   "cell_type": "code",
   "execution_count": 199,
   "id": "76867c1f",
   "metadata": {},
   "outputs": [
    {
     "data": {
      "text/plain": [
       "(0.615624594334649, 0.5254810709498619)"
      ]
     },
     "execution_count": 199,
     "metadata": {},
     "output_type": "execute_result"
    }
   ],
   "source": [
    "update_weights(X,y,m,b,0.01)"
   ]
  },
  {
   "cell_type": "code",
   "execution_count": 215,
   "id": "1208aa06",
   "metadata": {},
   "outputs": [
    {
     "data": {
      "text/plain": [
       "(-1.355234075675116, 15.110201899341812)"
      ]
     },
     "execution_count": 215,
     "metadata": {},
     "output_type": "execute_result"
    }
   ],
   "source": [
    "m,b = fit2(X,y,m,b)\n",
    "m,b"
   ]
  },
  {
   "cell_type": "code",
   "execution_count": 216,
   "id": "0878b986",
   "metadata": {},
   "outputs": [],
   "source": [
    "df['y_hat2']=df['X']*m+b"
   ]
  },
  {
   "cell_type": "code",
   "execution_count": 217,
   "id": "cf7addd7",
   "metadata": {},
   "outputs": [
    {
     "data": {
      "text/plain": [
       "13.892379545867222"
      ]
     },
     "execution_count": 217,
     "metadata": {},
     "output_type": "execute_result"
    }
   ],
   "source": [
    "# FINDING MSE\n",
    "MSE = ((1/n)*(((df['y_hat2']-df['y'])**2).sum()))\n",
    "MSE"
   ]
  },
  {
   "cell_type": "code",
   "execution_count": null,
   "id": "e0643ae4",
   "metadata": {},
   "outputs": [],
   "source": []
  }
 ],
 "metadata": {
  "kernelspec": {
   "display_name": "Python 3 (ipykernel)",
   "language": "python",
   "name": "python3"
  },
  "language_info": {
   "codemirror_mode": {
    "name": "ipython",
    "version": 3
   },
   "file_extension": ".py",
   "mimetype": "text/x-python",
   "name": "python",
   "nbconvert_exporter": "python",
   "pygments_lexer": "ipython3",
   "version": "3.9.12"
  }
 },
 "nbformat": 4,
 "nbformat_minor": 5
}
