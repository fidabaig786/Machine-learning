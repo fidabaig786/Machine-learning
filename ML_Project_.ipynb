{
  "cells": [
    {
      "cell_type": "code",
      "execution_count": 1,
      "id": "a87b1fb3",
      "metadata": {
        "id": "a87b1fb3"
      },
      "outputs": [],
      "source": [
        "import pandas as pd\n",
        "import numpy as np\n",
        "import matplotlib.pyplot as plt"
      ]
    },
    {
      "cell_type": "code",
      "execution_count": 3,
      "id": "0bf51c84",
      "metadata": {
        "id": "0bf51c84"
      },
      "outputs": [],
      "source": [
        "df=pd.read_csv(\"weatherAUS.csv\")"
      ]
    },
    {
      "cell_type": "code",
      "execution_count": 4,
      "id": "1a894097",
      "metadata": {
        "colab": {
          "base_uri": "https://localhost:8080/",
          "height": 382
        },
        "id": "1a894097",
        "outputId": "5bc05ec1-8d4f-4587-9b02-a08a35b59543"
      },
      "outputs": [
        {
          "output_type": "execute_result",
          "data": {
            "text/plain": [
              "         Date Location  MinTemp  MaxTemp  Rainfall  Evaporation  Sunshine  \\\n",
              "0  2008-12-01   Albury     13.4     22.9       0.6          NaN       NaN   \n",
              "1  2008-12-02   Albury      7.4     25.1       0.0          NaN       NaN   \n",
              "2  2008-12-03   Albury     12.9     25.7       0.0          NaN       NaN   \n",
              "3  2008-12-04   Albury      9.2     28.0       0.0          NaN       NaN   \n",
              "4  2008-12-05   Albury     17.5     32.3       1.0          NaN       NaN   \n",
              "\n",
              "  WindGustDir  WindGustSpeed WindDir9am  ... Humidity9am  Humidity3pm  \\\n",
              "0           W           44.0          W  ...        71.0         22.0   \n",
              "1         WNW           44.0        NNW  ...        44.0         25.0   \n",
              "2         WSW           46.0          W  ...        38.0         30.0   \n",
              "3          NE           24.0         SE  ...        45.0         16.0   \n",
              "4           W           41.0        ENE  ...        82.0         33.0   \n",
              "\n",
              "   Pressure9am  Pressure3pm  Cloud9am  Cloud3pm  Temp9am  Temp3pm  RainToday  \\\n",
              "0       1007.7       1007.1       8.0       NaN     16.9     21.8         No   \n",
              "1       1010.6       1007.8       NaN       NaN     17.2     24.3         No   \n",
              "2       1007.6       1008.7       NaN       2.0     21.0     23.2         No   \n",
              "3       1017.6       1012.8       NaN       NaN     18.1     26.5         No   \n",
              "4       1010.8       1006.0       7.0       8.0     17.8     29.7         No   \n",
              "\n",
              "   RainTomorrow  \n",
              "0            No  \n",
              "1            No  \n",
              "2            No  \n",
              "3            No  \n",
              "4            No  \n",
              "\n",
              "[5 rows x 23 columns]"
            ],
            "text/html": [
              "\n",
              "  <div id=\"df-efc503eb-4767-43e5-9373-e81aab67ca82\">\n",
              "    <div class=\"colab-df-container\">\n",
              "      <div>\n",
              "<style scoped>\n",
              "    .dataframe tbody tr th:only-of-type {\n",
              "        vertical-align: middle;\n",
              "    }\n",
              "\n",
              "    .dataframe tbody tr th {\n",
              "        vertical-align: top;\n",
              "    }\n",
              "\n",
              "    .dataframe thead th {\n",
              "        text-align: right;\n",
              "    }\n",
              "</style>\n",
              "<table border=\"1\" class=\"dataframe\">\n",
              "  <thead>\n",
              "    <tr style=\"text-align: right;\">\n",
              "      <th></th>\n",
              "      <th>Date</th>\n",
              "      <th>Location</th>\n",
              "      <th>MinTemp</th>\n",
              "      <th>MaxTemp</th>\n",
              "      <th>Rainfall</th>\n",
              "      <th>Evaporation</th>\n",
              "      <th>Sunshine</th>\n",
              "      <th>WindGustDir</th>\n",
              "      <th>WindGustSpeed</th>\n",
              "      <th>WindDir9am</th>\n",
              "      <th>...</th>\n",
              "      <th>Humidity9am</th>\n",
              "      <th>Humidity3pm</th>\n",
              "      <th>Pressure9am</th>\n",
              "      <th>Pressure3pm</th>\n",
              "      <th>Cloud9am</th>\n",
              "      <th>Cloud3pm</th>\n",
              "      <th>Temp9am</th>\n",
              "      <th>Temp3pm</th>\n",
              "      <th>RainToday</th>\n",
              "      <th>RainTomorrow</th>\n",
              "    </tr>\n",
              "  </thead>\n",
              "  <tbody>\n",
              "    <tr>\n",
              "      <th>0</th>\n",
              "      <td>2008-12-01</td>\n",
              "      <td>Albury</td>\n",
              "      <td>13.4</td>\n",
              "      <td>22.9</td>\n",
              "      <td>0.6</td>\n",
              "      <td>NaN</td>\n",
              "      <td>NaN</td>\n",
              "      <td>W</td>\n",
              "      <td>44.0</td>\n",
              "      <td>W</td>\n",
              "      <td>...</td>\n",
              "      <td>71.0</td>\n",
              "      <td>22.0</td>\n",
              "      <td>1007.7</td>\n",
              "      <td>1007.1</td>\n",
              "      <td>8.0</td>\n",
              "      <td>NaN</td>\n",
              "      <td>16.9</td>\n",
              "      <td>21.8</td>\n",
              "      <td>No</td>\n",
              "      <td>No</td>\n",
              "    </tr>\n",
              "    <tr>\n",
              "      <th>1</th>\n",
              "      <td>2008-12-02</td>\n",
              "      <td>Albury</td>\n",
              "      <td>7.4</td>\n",
              "      <td>25.1</td>\n",
              "      <td>0.0</td>\n",
              "      <td>NaN</td>\n",
              "      <td>NaN</td>\n",
              "      <td>WNW</td>\n",
              "      <td>44.0</td>\n",
              "      <td>NNW</td>\n",
              "      <td>...</td>\n",
              "      <td>44.0</td>\n",
              "      <td>25.0</td>\n",
              "      <td>1010.6</td>\n",
              "      <td>1007.8</td>\n",
              "      <td>NaN</td>\n",
              "      <td>NaN</td>\n",
              "      <td>17.2</td>\n",
              "      <td>24.3</td>\n",
              "      <td>No</td>\n",
              "      <td>No</td>\n",
              "    </tr>\n",
              "    <tr>\n",
              "      <th>2</th>\n",
              "      <td>2008-12-03</td>\n",
              "      <td>Albury</td>\n",
              "      <td>12.9</td>\n",
              "      <td>25.7</td>\n",
              "      <td>0.0</td>\n",
              "      <td>NaN</td>\n",
              "      <td>NaN</td>\n",
              "      <td>WSW</td>\n",
              "      <td>46.0</td>\n",
              "      <td>W</td>\n",
              "      <td>...</td>\n",
              "      <td>38.0</td>\n",
              "      <td>30.0</td>\n",
              "      <td>1007.6</td>\n",
              "      <td>1008.7</td>\n",
              "      <td>NaN</td>\n",
              "      <td>2.0</td>\n",
              "      <td>21.0</td>\n",
              "      <td>23.2</td>\n",
              "      <td>No</td>\n",
              "      <td>No</td>\n",
              "    </tr>\n",
              "    <tr>\n",
              "      <th>3</th>\n",
              "      <td>2008-12-04</td>\n",
              "      <td>Albury</td>\n",
              "      <td>9.2</td>\n",
              "      <td>28.0</td>\n",
              "      <td>0.0</td>\n",
              "      <td>NaN</td>\n",
              "      <td>NaN</td>\n",
              "      <td>NE</td>\n",
              "      <td>24.0</td>\n",
              "      <td>SE</td>\n",
              "      <td>...</td>\n",
              "      <td>45.0</td>\n",
              "      <td>16.0</td>\n",
              "      <td>1017.6</td>\n",
              "      <td>1012.8</td>\n",
              "      <td>NaN</td>\n",
              "      <td>NaN</td>\n",
              "      <td>18.1</td>\n",
              "      <td>26.5</td>\n",
              "      <td>No</td>\n",
              "      <td>No</td>\n",
              "    </tr>\n",
              "    <tr>\n",
              "      <th>4</th>\n",
              "      <td>2008-12-05</td>\n",
              "      <td>Albury</td>\n",
              "      <td>17.5</td>\n",
              "      <td>32.3</td>\n",
              "      <td>1.0</td>\n",
              "      <td>NaN</td>\n",
              "      <td>NaN</td>\n",
              "      <td>W</td>\n",
              "      <td>41.0</td>\n",
              "      <td>ENE</td>\n",
              "      <td>...</td>\n",
              "      <td>82.0</td>\n",
              "      <td>33.0</td>\n",
              "      <td>1010.8</td>\n",
              "      <td>1006.0</td>\n",
              "      <td>7.0</td>\n",
              "      <td>8.0</td>\n",
              "      <td>17.8</td>\n",
              "      <td>29.7</td>\n",
              "      <td>No</td>\n",
              "      <td>No</td>\n",
              "    </tr>\n",
              "  </tbody>\n",
              "</table>\n",
              "<p>5 rows × 23 columns</p>\n",
              "</div>\n",
              "      <button class=\"colab-df-convert\" onclick=\"convertToInteractive('df-efc503eb-4767-43e5-9373-e81aab67ca82')\"\n",
              "              title=\"Convert this dataframe to an interactive table.\"\n",
              "              style=\"display:none;\">\n",
              "        \n",
              "  <svg xmlns=\"http://www.w3.org/2000/svg\" height=\"24px\"viewBox=\"0 0 24 24\"\n",
              "       width=\"24px\">\n",
              "    <path d=\"M0 0h24v24H0V0z\" fill=\"none\"/>\n",
              "    <path d=\"M18.56 5.44l.94 2.06.94-2.06 2.06-.94-2.06-.94-.94-2.06-.94 2.06-2.06.94zm-11 1L8.5 8.5l.94-2.06 2.06-.94-2.06-.94L8.5 2.5l-.94 2.06-2.06.94zm10 10l.94 2.06.94-2.06 2.06-.94-2.06-.94-.94-2.06-.94 2.06-2.06.94z\"/><path d=\"M17.41 7.96l-1.37-1.37c-.4-.4-.92-.59-1.43-.59-.52 0-1.04.2-1.43.59L10.3 9.45l-7.72 7.72c-.78.78-.78 2.05 0 2.83L4 21.41c.39.39.9.59 1.41.59.51 0 1.02-.2 1.41-.59l7.78-7.78 2.81-2.81c.8-.78.8-2.07 0-2.86zM5.41 20L4 18.59l7.72-7.72 1.47 1.35L5.41 20z\"/>\n",
              "  </svg>\n",
              "      </button>\n",
              "      \n",
              "  <style>\n",
              "    .colab-df-container {\n",
              "      display:flex;\n",
              "      flex-wrap:wrap;\n",
              "      gap: 12px;\n",
              "    }\n",
              "\n",
              "    .colab-df-convert {\n",
              "      background-color: #E8F0FE;\n",
              "      border: none;\n",
              "      border-radius: 50%;\n",
              "      cursor: pointer;\n",
              "      display: none;\n",
              "      fill: #1967D2;\n",
              "      height: 32px;\n",
              "      padding: 0 0 0 0;\n",
              "      width: 32px;\n",
              "    }\n",
              "\n",
              "    .colab-df-convert:hover {\n",
              "      background-color: #E2EBFA;\n",
              "      box-shadow: 0px 1px 2px rgba(60, 64, 67, 0.3), 0px 1px 3px 1px rgba(60, 64, 67, 0.15);\n",
              "      fill: #174EA6;\n",
              "    }\n",
              "\n",
              "    [theme=dark] .colab-df-convert {\n",
              "      background-color: #3B4455;\n",
              "      fill: #D2E3FC;\n",
              "    }\n",
              "\n",
              "    [theme=dark] .colab-df-convert:hover {\n",
              "      background-color: #434B5C;\n",
              "      box-shadow: 0px 1px 3px 1px rgba(0, 0, 0, 0.15);\n",
              "      filter: drop-shadow(0px 1px 2px rgba(0, 0, 0, 0.3));\n",
              "      fill: #FFFFFF;\n",
              "    }\n",
              "  </style>\n",
              "\n",
              "      <script>\n",
              "        const buttonEl =\n",
              "          document.querySelector('#df-efc503eb-4767-43e5-9373-e81aab67ca82 button.colab-df-convert');\n",
              "        buttonEl.style.display =\n",
              "          google.colab.kernel.accessAllowed ? 'block' : 'none';\n",
              "\n",
              "        async function convertToInteractive(key) {\n",
              "          const element = document.querySelector('#df-efc503eb-4767-43e5-9373-e81aab67ca82');\n",
              "          const dataTable =\n",
              "            await google.colab.kernel.invokeFunction('convertToInteractive',\n",
              "                                                     [key], {});\n",
              "          if (!dataTable) return;\n",
              "\n",
              "          const docLinkHtml = 'Like what you see? Visit the ' +\n",
              "            '<a target=\"_blank\" href=https://colab.research.google.com/notebooks/data_table.ipynb>data table notebook</a>'\n",
              "            + ' to learn more about interactive tables.';\n",
              "          element.innerHTML = '';\n",
              "          dataTable['output_type'] = 'display_data';\n",
              "          await google.colab.output.renderOutput(dataTable, element);\n",
              "          const docLink = document.createElement('div');\n",
              "          docLink.innerHTML = docLinkHtml;\n",
              "          element.appendChild(docLink);\n",
              "        }\n",
              "      </script>\n",
              "    </div>\n",
              "  </div>\n",
              "  "
            ]
          },
          "metadata": {},
          "execution_count": 4
        }
      ],
      "source": [
        "df.head()"
      ]
    },
    {
      "cell_type": "markdown",
      "source": [
        "# New Section"
      ],
      "metadata": {
        "id": "H1XRpDD2vfMv"
      },
      "id": "H1XRpDD2vfMv"
    },
    {
      "cell_type": "markdown",
      "id": "002b375b",
      "metadata": {
        "id": "002b375b"
      },
      "source": [
        "# Data Preprocessing"
      ]
    },
    {
      "cell_type": "code",
      "execution_count": 5,
      "id": "76cf16b7",
      "metadata": {
        "id": "76cf16b7"
      },
      "outputs": [],
      "source": [
        "df=df.drop('Date',axis=1)"
      ]
    },
    {
      "cell_type": "code",
      "execution_count": 6,
      "id": "9ecaa63e",
      "metadata": {
        "colab": {
          "base_uri": "https://localhost:8080/"
        },
        "id": "9ecaa63e",
        "outputId": "6b12660c-42bc-4a74-8ba3-30cf09521f7d"
      },
      "outputs": [
        {
          "output_type": "execute_result",
          "data": {
            "text/plain": [
              "Location             0\n",
              "MinTemp           1485\n",
              "MaxTemp           1261\n",
              "Rainfall          3261\n",
              "Evaporation      62790\n",
              "Sunshine         69835\n",
              "WindGustDir      10326\n",
              "WindGustSpeed    10263\n",
              "WindDir9am       10566\n",
              "WindDir3pm        4228\n",
              "WindSpeed9am      1767\n",
              "WindSpeed3pm      3062\n",
              "Humidity9am       2654\n",
              "Humidity3pm       4507\n",
              "Pressure9am      15065\n",
              "Pressure3pm      15028\n",
              "Cloud9am         55888\n",
              "Cloud3pm         59358\n",
              "Temp9am           1767\n",
              "Temp3pm           3609\n",
              "RainToday         3261\n",
              "RainTomorrow      3267\n",
              "dtype: int64"
            ]
          },
          "metadata": {},
          "execution_count": 6
        }
      ],
      "source": [
        "df.isnull().sum()"
      ]
    },
    {
      "cell_type": "code",
      "execution_count": 7,
      "id": "fc81cb10",
      "metadata": {
        "id": "fc81cb10"
      },
      "outputs": [],
      "source": [
        "from sklearn.preprocessing import LabelEncoder"
      ]
    },
    {
      "cell_type": "code",
      "execution_count": 8,
      "id": "0a1e7ba0",
      "metadata": {
        "id": "0a1e7ba0"
      },
      "outputs": [],
      "source": [
        "le=LabelEncoder()"
      ]
    },
    {
      "cell_type": "code",
      "execution_count": 9,
      "id": "08f2047c",
      "metadata": {
        "id": "08f2047c"
      },
      "outputs": [],
      "source": [
        "for i in df.columns:\n",
        "    df[i]=le.fit_transform(df[i])"
      ]
    },
    {
      "cell_type": "code",
      "execution_count": 10,
      "id": "6e37db31",
      "metadata": {
        "colab": {
          "base_uri": "https://localhost:8080/",
          "height": 483
        },
        "id": "6e37db31",
        "outputId": "f8850ef5-691c-4cd6-a141-61f4bbe6b800"
      },
      "outputs": [
        {
          "output_type": "execute_result",
          "data": {
            "text/plain": [
              "        Location  MinTemp  MaxTemp  Rainfall  Evaporation  Sunshine  \\\n",
              "0              2      213      262         6          358       145   \n",
              "1              2      153      284         0          358       145   \n",
              "2              2      208      290         0          358       145   \n",
              "3              2      171      313         0          358       145   \n",
              "4              2      254      356        10          358       145   \n",
              "...          ...      ...      ...       ...          ...       ...   \n",
              "145455        41      107      267         0          358       145   \n",
              "145456        41      115      286         0          358       145   \n",
              "145457        41      133      302         0          358       145   \n",
              "145458        41      157      303         0          358       145   \n",
              "145459        41      228      505         0          358       145   \n",
              "\n",
              "        WindGustDir  WindGustSpeed  WindDir9am  WindDir3pm  ...  Humidity9am  \\\n",
              "0                13             21          13          14  ...           71   \n",
              "1                14             21           6          15  ...           44   \n",
              "2                15             22          13          15  ...           38   \n",
              "3                 4             10           9           0  ...           45   \n",
              "4                13             19           1           7  ...           82   \n",
              "...             ...            ...         ...         ...  ...          ...   \n",
              "145455            0             14           9           1  ...           51   \n",
              "145456            6              9           9           3  ...           56   \n",
              "145457            3             17           9          14  ...           53   \n",
              "145458            9             12          10           3  ...           51   \n",
              "145459           16             67           2           2  ...           62   \n",
              "\n",
              "        Humidity3pm  Pressure9am  Pressure3pm  Cloud9am  Cloud3pm  Temp9am  \\\n",
              "0                22          215          232         8        10      224   \n",
              "1                25          244          239        10        10      227   \n",
              "2                30          214          248        10         2      265   \n",
              "3                16          314          290        10        10      236   \n",
              "4                33          246          221         7         8      233   \n",
              "...             ...          ...          ...       ...       ...      ...   \n",
              "145455           24          384          366        10        10      156   \n",
              "145456           21          373          354        10        10      164   \n",
              "145457           24          348          331        10        10      180   \n",
              "145458           24          332          327         3         2      206   \n",
              "145459           36          340          342         8         8      205   \n",
              "\n",
              "        Temp3pm  RainToday  RainTomorrow  \n",
              "0           262          0             0  \n",
              "1           287          0             0  \n",
              "2           276          0             0  \n",
              "3           309          0             0  \n",
              "4           341          0             0  \n",
              "...         ...        ...           ...  \n",
              "145455      268          0             0  \n",
              "145456      289          0             0  \n",
              "145457      305          0             0  \n",
              "145458      304          0             0  \n",
              "145459      253          0             2  \n",
              "\n",
              "[145460 rows x 22 columns]"
            ],
            "text/html": [
              "\n",
              "  <div id=\"df-3059f659-b510-4d80-b5fc-6e5d78c8890d\">\n",
              "    <div class=\"colab-df-container\">\n",
              "      <div>\n",
              "<style scoped>\n",
              "    .dataframe tbody tr th:only-of-type {\n",
              "        vertical-align: middle;\n",
              "    }\n",
              "\n",
              "    .dataframe tbody tr th {\n",
              "        vertical-align: top;\n",
              "    }\n",
              "\n",
              "    .dataframe thead th {\n",
              "        text-align: right;\n",
              "    }\n",
              "</style>\n",
              "<table border=\"1\" class=\"dataframe\">\n",
              "  <thead>\n",
              "    <tr style=\"text-align: right;\">\n",
              "      <th></th>\n",
              "      <th>Location</th>\n",
              "      <th>MinTemp</th>\n",
              "      <th>MaxTemp</th>\n",
              "      <th>Rainfall</th>\n",
              "      <th>Evaporation</th>\n",
              "      <th>Sunshine</th>\n",
              "      <th>WindGustDir</th>\n",
              "      <th>WindGustSpeed</th>\n",
              "      <th>WindDir9am</th>\n",
              "      <th>WindDir3pm</th>\n",
              "      <th>...</th>\n",
              "      <th>Humidity9am</th>\n",
              "      <th>Humidity3pm</th>\n",
              "      <th>Pressure9am</th>\n",
              "      <th>Pressure3pm</th>\n",
              "      <th>Cloud9am</th>\n",
              "      <th>Cloud3pm</th>\n",
              "      <th>Temp9am</th>\n",
              "      <th>Temp3pm</th>\n",
              "      <th>RainToday</th>\n",
              "      <th>RainTomorrow</th>\n",
              "    </tr>\n",
              "  </thead>\n",
              "  <tbody>\n",
              "    <tr>\n",
              "      <th>0</th>\n",
              "      <td>2</td>\n",
              "      <td>213</td>\n",
              "      <td>262</td>\n",
              "      <td>6</td>\n",
              "      <td>358</td>\n",
              "      <td>145</td>\n",
              "      <td>13</td>\n",
              "      <td>21</td>\n",
              "      <td>13</td>\n",
              "      <td>14</td>\n",
              "      <td>...</td>\n",
              "      <td>71</td>\n",
              "      <td>22</td>\n",
              "      <td>215</td>\n",
              "      <td>232</td>\n",
              "      <td>8</td>\n",
              "      <td>10</td>\n",
              "      <td>224</td>\n",
              "      <td>262</td>\n",
              "      <td>0</td>\n",
              "      <td>0</td>\n",
              "    </tr>\n",
              "    <tr>\n",
              "      <th>1</th>\n",
              "      <td>2</td>\n",
              "      <td>153</td>\n",
              "      <td>284</td>\n",
              "      <td>0</td>\n",
              "      <td>358</td>\n",
              "      <td>145</td>\n",
              "      <td>14</td>\n",
              "      <td>21</td>\n",
              "      <td>6</td>\n",
              "      <td>15</td>\n",
              "      <td>...</td>\n",
              "      <td>44</td>\n",
              "      <td>25</td>\n",
              "      <td>244</td>\n",
              "      <td>239</td>\n",
              "      <td>10</td>\n",
              "      <td>10</td>\n",
              "      <td>227</td>\n",
              "      <td>287</td>\n",
              "      <td>0</td>\n",
              "      <td>0</td>\n",
              "    </tr>\n",
              "    <tr>\n",
              "      <th>2</th>\n",
              "      <td>2</td>\n",
              "      <td>208</td>\n",
              "      <td>290</td>\n",
              "      <td>0</td>\n",
              "      <td>358</td>\n",
              "      <td>145</td>\n",
              "      <td>15</td>\n",
              "      <td>22</td>\n",
              "      <td>13</td>\n",
              "      <td>15</td>\n",
              "      <td>...</td>\n",
              "      <td>38</td>\n",
              "      <td>30</td>\n",
              "      <td>214</td>\n",
              "      <td>248</td>\n",
              "      <td>10</td>\n",
              "      <td>2</td>\n",
              "      <td>265</td>\n",
              "      <td>276</td>\n",
              "      <td>0</td>\n",
              "      <td>0</td>\n",
              "    </tr>\n",
              "    <tr>\n",
              "      <th>3</th>\n",
              "      <td>2</td>\n",
              "      <td>171</td>\n",
              "      <td>313</td>\n",
              "      <td>0</td>\n",
              "      <td>358</td>\n",
              "      <td>145</td>\n",
              "      <td>4</td>\n",
              "      <td>10</td>\n",
              "      <td>9</td>\n",
              "      <td>0</td>\n",
              "      <td>...</td>\n",
              "      <td>45</td>\n",
              "      <td>16</td>\n",
              "      <td>314</td>\n",
              "      <td>290</td>\n",
              "      <td>10</td>\n",
              "      <td>10</td>\n",
              "      <td>236</td>\n",
              "      <td>309</td>\n",
              "      <td>0</td>\n",
              "      <td>0</td>\n",
              "    </tr>\n",
              "    <tr>\n",
              "      <th>4</th>\n",
              "      <td>2</td>\n",
              "      <td>254</td>\n",
              "      <td>356</td>\n",
              "      <td>10</td>\n",
              "      <td>358</td>\n",
              "      <td>145</td>\n",
              "      <td>13</td>\n",
              "      <td>19</td>\n",
              "      <td>1</td>\n",
              "      <td>7</td>\n",
              "      <td>...</td>\n",
              "      <td>82</td>\n",
              "      <td>33</td>\n",
              "      <td>246</td>\n",
              "      <td>221</td>\n",
              "      <td>7</td>\n",
              "      <td>8</td>\n",
              "      <td>233</td>\n",
              "      <td>341</td>\n",
              "      <td>0</td>\n",
              "      <td>0</td>\n",
              "    </tr>\n",
              "    <tr>\n",
              "      <th>...</th>\n",
              "      <td>...</td>\n",
              "      <td>...</td>\n",
              "      <td>...</td>\n",
              "      <td>...</td>\n",
              "      <td>...</td>\n",
              "      <td>...</td>\n",
              "      <td>...</td>\n",
              "      <td>...</td>\n",
              "      <td>...</td>\n",
              "      <td>...</td>\n",
              "      <td>...</td>\n",
              "      <td>...</td>\n",
              "      <td>...</td>\n",
              "      <td>...</td>\n",
              "      <td>...</td>\n",
              "      <td>...</td>\n",
              "      <td>...</td>\n",
              "      <td>...</td>\n",
              "      <td>...</td>\n",
              "      <td>...</td>\n",
              "      <td>...</td>\n",
              "    </tr>\n",
              "    <tr>\n",
              "      <th>145455</th>\n",
              "      <td>41</td>\n",
              "      <td>107</td>\n",
              "      <td>267</td>\n",
              "      <td>0</td>\n",
              "      <td>358</td>\n",
              "      <td>145</td>\n",
              "      <td>0</td>\n",
              "      <td>14</td>\n",
              "      <td>9</td>\n",
              "      <td>1</td>\n",
              "      <td>...</td>\n",
              "      <td>51</td>\n",
              "      <td>24</td>\n",
              "      <td>384</td>\n",
              "      <td>366</td>\n",
              "      <td>10</td>\n",
              "      <td>10</td>\n",
              "      <td>156</td>\n",
              "      <td>268</td>\n",
              "      <td>0</td>\n",
              "      <td>0</td>\n",
              "    </tr>\n",
              "    <tr>\n",
              "      <th>145456</th>\n",
              "      <td>41</td>\n",
              "      <td>115</td>\n",
              "      <td>286</td>\n",
              "      <td>0</td>\n",
              "      <td>358</td>\n",
              "      <td>145</td>\n",
              "      <td>6</td>\n",
              "      <td>9</td>\n",
              "      <td>9</td>\n",
              "      <td>3</td>\n",
              "      <td>...</td>\n",
              "      <td>56</td>\n",
              "      <td>21</td>\n",
              "      <td>373</td>\n",
              "      <td>354</td>\n",
              "      <td>10</td>\n",
              "      <td>10</td>\n",
              "      <td>164</td>\n",
              "      <td>289</td>\n",
              "      <td>0</td>\n",
              "      <td>0</td>\n",
              "    </tr>\n",
              "    <tr>\n",
              "      <th>145457</th>\n",
              "      <td>41</td>\n",
              "      <td>133</td>\n",
              "      <td>302</td>\n",
              "      <td>0</td>\n",
              "      <td>358</td>\n",
              "      <td>145</td>\n",
              "      <td>3</td>\n",
              "      <td>17</td>\n",
              "      <td>9</td>\n",
              "      <td>14</td>\n",
              "      <td>...</td>\n",
              "      <td>53</td>\n",
              "      <td>24</td>\n",
              "      <td>348</td>\n",
              "      <td>331</td>\n",
              "      <td>10</td>\n",
              "      <td>10</td>\n",
              "      <td>180</td>\n",
              "      <td>305</td>\n",
              "      <td>0</td>\n",
              "      <td>0</td>\n",
              "    </tr>\n",
              "    <tr>\n",
              "      <th>145458</th>\n",
              "      <td>41</td>\n",
              "      <td>157</td>\n",
              "      <td>303</td>\n",
              "      <td>0</td>\n",
              "      <td>358</td>\n",
              "      <td>145</td>\n",
              "      <td>9</td>\n",
              "      <td>12</td>\n",
              "      <td>10</td>\n",
              "      <td>3</td>\n",
              "      <td>...</td>\n",
              "      <td>51</td>\n",
              "      <td>24</td>\n",
              "      <td>332</td>\n",
              "      <td>327</td>\n",
              "      <td>3</td>\n",
              "      <td>2</td>\n",
              "      <td>206</td>\n",
              "      <td>304</td>\n",
              "      <td>0</td>\n",
              "      <td>0</td>\n",
              "    </tr>\n",
              "    <tr>\n",
              "      <th>145459</th>\n",
              "      <td>41</td>\n",
              "      <td>228</td>\n",
              "      <td>505</td>\n",
              "      <td>0</td>\n",
              "      <td>358</td>\n",
              "      <td>145</td>\n",
              "      <td>16</td>\n",
              "      <td>67</td>\n",
              "      <td>2</td>\n",
              "      <td>2</td>\n",
              "      <td>...</td>\n",
              "      <td>62</td>\n",
              "      <td>36</td>\n",
              "      <td>340</td>\n",
              "      <td>342</td>\n",
              "      <td>8</td>\n",
              "      <td>8</td>\n",
              "      <td>205</td>\n",
              "      <td>253</td>\n",
              "      <td>0</td>\n",
              "      <td>2</td>\n",
              "    </tr>\n",
              "  </tbody>\n",
              "</table>\n",
              "<p>145460 rows × 22 columns</p>\n",
              "</div>\n",
              "      <button class=\"colab-df-convert\" onclick=\"convertToInteractive('df-3059f659-b510-4d80-b5fc-6e5d78c8890d')\"\n",
              "              title=\"Convert this dataframe to an interactive table.\"\n",
              "              style=\"display:none;\">\n",
              "        \n",
              "  <svg xmlns=\"http://www.w3.org/2000/svg\" height=\"24px\"viewBox=\"0 0 24 24\"\n",
              "       width=\"24px\">\n",
              "    <path d=\"M0 0h24v24H0V0z\" fill=\"none\"/>\n",
              "    <path d=\"M18.56 5.44l.94 2.06.94-2.06 2.06-.94-2.06-.94-.94-2.06-.94 2.06-2.06.94zm-11 1L8.5 8.5l.94-2.06 2.06-.94-2.06-.94L8.5 2.5l-.94 2.06-2.06.94zm10 10l.94 2.06.94-2.06 2.06-.94-2.06-.94-.94-2.06-.94 2.06-2.06.94z\"/><path d=\"M17.41 7.96l-1.37-1.37c-.4-.4-.92-.59-1.43-.59-.52 0-1.04.2-1.43.59L10.3 9.45l-7.72 7.72c-.78.78-.78 2.05 0 2.83L4 21.41c.39.39.9.59 1.41.59.51 0 1.02-.2 1.41-.59l7.78-7.78 2.81-2.81c.8-.78.8-2.07 0-2.86zM5.41 20L4 18.59l7.72-7.72 1.47 1.35L5.41 20z\"/>\n",
              "  </svg>\n",
              "      </button>\n",
              "      \n",
              "  <style>\n",
              "    .colab-df-container {\n",
              "      display:flex;\n",
              "      flex-wrap:wrap;\n",
              "      gap: 12px;\n",
              "    }\n",
              "\n",
              "    .colab-df-convert {\n",
              "      background-color: #E8F0FE;\n",
              "      border: none;\n",
              "      border-radius: 50%;\n",
              "      cursor: pointer;\n",
              "      display: none;\n",
              "      fill: #1967D2;\n",
              "      height: 32px;\n",
              "      padding: 0 0 0 0;\n",
              "      width: 32px;\n",
              "    }\n",
              "\n",
              "    .colab-df-convert:hover {\n",
              "      background-color: #E2EBFA;\n",
              "      box-shadow: 0px 1px 2px rgba(60, 64, 67, 0.3), 0px 1px 3px 1px rgba(60, 64, 67, 0.15);\n",
              "      fill: #174EA6;\n",
              "    }\n",
              "\n",
              "    [theme=dark] .colab-df-convert {\n",
              "      background-color: #3B4455;\n",
              "      fill: #D2E3FC;\n",
              "    }\n",
              "\n",
              "    [theme=dark] .colab-df-convert:hover {\n",
              "      background-color: #434B5C;\n",
              "      box-shadow: 0px 1px 3px 1px rgba(0, 0, 0, 0.15);\n",
              "      filter: drop-shadow(0px 1px 2px rgba(0, 0, 0, 0.3));\n",
              "      fill: #FFFFFF;\n",
              "    }\n",
              "  </style>\n",
              "\n",
              "      <script>\n",
              "        const buttonEl =\n",
              "          document.querySelector('#df-3059f659-b510-4d80-b5fc-6e5d78c8890d button.colab-df-convert');\n",
              "        buttonEl.style.display =\n",
              "          google.colab.kernel.accessAllowed ? 'block' : 'none';\n",
              "\n",
              "        async function convertToInteractive(key) {\n",
              "          const element = document.querySelector('#df-3059f659-b510-4d80-b5fc-6e5d78c8890d');\n",
              "          const dataTable =\n",
              "            await google.colab.kernel.invokeFunction('convertToInteractive',\n",
              "                                                     [key], {});\n",
              "          if (!dataTable) return;\n",
              "\n",
              "          const docLinkHtml = 'Like what you see? Visit the ' +\n",
              "            '<a target=\"_blank\" href=https://colab.research.google.com/notebooks/data_table.ipynb>data table notebook</a>'\n",
              "            + ' to learn more about interactive tables.';\n",
              "          element.innerHTML = '';\n",
              "          dataTable['output_type'] = 'display_data';\n",
              "          await google.colab.output.renderOutput(dataTable, element);\n",
              "          const docLink = document.createElement('div');\n",
              "          docLink.innerHTML = docLinkHtml;\n",
              "          element.appendChild(docLink);\n",
              "        }\n",
              "      </script>\n",
              "    </div>\n",
              "  </div>\n",
              "  "
            ]
          },
          "metadata": {},
          "execution_count": 10
        }
      ],
      "source": [
        "df"
      ]
    },
    {
      "cell_type": "code",
      "execution_count": 11,
      "id": "8d91bcf3",
      "metadata": {
        "colab": {
          "base_uri": "https://localhost:8080/"
        },
        "id": "8d91bcf3",
        "outputId": "b53367d4-ed02-4de1-f562-1f5f3ef8ef26"
      },
      "outputs": [
        {
          "output_type": "execute_result",
          "data": {
            "text/plain": [
              "Location         0\n",
              "MinTemp          0\n",
              "MaxTemp          0\n",
              "Rainfall         0\n",
              "Evaporation      0\n",
              "Sunshine         0\n",
              "WindGustDir      0\n",
              "WindGustSpeed    0\n",
              "WindDir9am       0\n",
              "WindDir3pm       0\n",
              "WindSpeed9am     0\n",
              "WindSpeed3pm     0\n",
              "Humidity9am      0\n",
              "Humidity3pm      0\n",
              "Pressure9am      0\n",
              "Pressure3pm      0\n",
              "Cloud9am         0\n",
              "Cloud3pm         0\n",
              "Temp9am          0\n",
              "Temp3pm          0\n",
              "RainToday        0\n",
              "RainTomorrow     0\n",
              "dtype: int64"
            ]
          },
          "metadata": {},
          "execution_count": 11
        }
      ],
      "source": [
        "df.isnull().sum()"
      ]
    },
    {
      "cell_type": "code",
      "execution_count": 12,
      "id": "8818e049",
      "metadata": {
        "colab": {
          "base_uri": "https://localhost:8080/"
        },
        "id": "8818e049",
        "outputId": "cfd989a0-6188-4e29-e71a-2c6d4b8c6105"
      },
      "outputs": [
        {
          "output_type": "execute_result",
          "data": {
            "text/plain": [
              "Index(['Location', 'MinTemp', 'MaxTemp', 'Rainfall', 'Evaporation', 'Sunshine',\n",
              "       'WindGustDir', 'WindGustSpeed', 'WindDir9am', 'WindDir3pm',\n",
              "       'WindSpeed9am', 'WindSpeed3pm', 'Humidity9am', 'Humidity3pm',\n",
              "       'Pressure9am', 'Pressure3pm', 'Cloud9am', 'Cloud3pm', 'Temp9am',\n",
              "       'Temp3pm', 'RainToday', 'RainTomorrow'],\n",
              "      dtype='object')"
            ]
          },
          "metadata": {},
          "execution_count": 12
        }
      ],
      "source": [
        "df.columns"
      ]
    },
    {
      "cell_type": "code",
      "execution_count": 13,
      "id": "068fa469",
      "metadata": {
        "id": "068fa469"
      },
      "outputs": [],
      "source": [
        "X=df[['Location', 'MinTemp', 'MaxTemp', 'Rainfall', 'Evaporation',\n",
        "       'Sunshine', 'WindGustDir', 'WindGustSpeed', 'WindDir9am', 'WindDir3pm',\n",
        "       'WindSpeed9am', 'WindSpeed3pm', 'Humidity9am', 'Humidity3pm',\n",
        "       'Pressure9am', 'Pressure3pm', 'Cloud9am', 'Cloud3pm', 'Temp9am',\n",
        "       'Temp3pm', 'RainToday']]"
      ]
    },
    {
      "cell_type": "code",
      "execution_count": 14,
      "id": "0f3570a3",
      "metadata": {
        "colab": {
          "base_uri": "https://localhost:8080/",
          "height": 297
        },
        "id": "0f3570a3",
        "outputId": "f4a792f9-3d38-4056-a36f-da4fa01b2e4c"
      },
      "outputs": [
        {
          "output_type": "execute_result",
          "data": {
            "text/plain": [
              "   Location  MinTemp  MaxTemp  Rainfall  Evaporation  Sunshine  WindGustDir  \\\n",
              "0         2      213      262         6          358       145           13   \n",
              "1         2      153      284         0          358       145           14   \n",
              "2         2      208      290         0          358       145           15   \n",
              "3         2      171      313         0          358       145            4   \n",
              "4         2      254      356        10          358       145           13   \n",
              "\n",
              "   WindGustSpeed  WindDir9am  WindDir3pm  ...  WindSpeed3pm  Humidity9am  \\\n",
              "0             21          13          14  ...            13           71   \n",
              "1             21           6          15  ...            12           44   \n",
              "2             22          13          15  ...            14           38   \n",
              "3             10           9           0  ...             5           45   \n",
              "4             19           1           7  ...            11           82   \n",
              "\n",
              "   Humidity3pm  Pressure9am  Pressure3pm  Cloud9am  Cloud3pm  Temp9am  \\\n",
              "0           22          215          232         8        10      224   \n",
              "1           25          244          239        10        10      227   \n",
              "2           30          214          248        10         2      265   \n",
              "3           16          314          290        10        10      236   \n",
              "4           33          246          221         7         8      233   \n",
              "\n",
              "   Temp3pm  RainToday  \n",
              "0      262          0  \n",
              "1      287          0  \n",
              "2      276          0  \n",
              "3      309          0  \n",
              "4      341          0  \n",
              "\n",
              "[5 rows x 21 columns]"
            ],
            "text/html": [
              "\n",
              "  <div id=\"df-29506707-a8f1-4a9f-a5a2-c35206535135\">\n",
              "    <div class=\"colab-df-container\">\n",
              "      <div>\n",
              "<style scoped>\n",
              "    .dataframe tbody tr th:only-of-type {\n",
              "        vertical-align: middle;\n",
              "    }\n",
              "\n",
              "    .dataframe tbody tr th {\n",
              "        vertical-align: top;\n",
              "    }\n",
              "\n",
              "    .dataframe thead th {\n",
              "        text-align: right;\n",
              "    }\n",
              "</style>\n",
              "<table border=\"1\" class=\"dataframe\">\n",
              "  <thead>\n",
              "    <tr style=\"text-align: right;\">\n",
              "      <th></th>\n",
              "      <th>Location</th>\n",
              "      <th>MinTemp</th>\n",
              "      <th>MaxTemp</th>\n",
              "      <th>Rainfall</th>\n",
              "      <th>Evaporation</th>\n",
              "      <th>Sunshine</th>\n",
              "      <th>WindGustDir</th>\n",
              "      <th>WindGustSpeed</th>\n",
              "      <th>WindDir9am</th>\n",
              "      <th>WindDir3pm</th>\n",
              "      <th>...</th>\n",
              "      <th>WindSpeed3pm</th>\n",
              "      <th>Humidity9am</th>\n",
              "      <th>Humidity3pm</th>\n",
              "      <th>Pressure9am</th>\n",
              "      <th>Pressure3pm</th>\n",
              "      <th>Cloud9am</th>\n",
              "      <th>Cloud3pm</th>\n",
              "      <th>Temp9am</th>\n",
              "      <th>Temp3pm</th>\n",
              "      <th>RainToday</th>\n",
              "    </tr>\n",
              "  </thead>\n",
              "  <tbody>\n",
              "    <tr>\n",
              "      <th>0</th>\n",
              "      <td>2</td>\n",
              "      <td>213</td>\n",
              "      <td>262</td>\n",
              "      <td>6</td>\n",
              "      <td>358</td>\n",
              "      <td>145</td>\n",
              "      <td>13</td>\n",
              "      <td>21</td>\n",
              "      <td>13</td>\n",
              "      <td>14</td>\n",
              "      <td>...</td>\n",
              "      <td>13</td>\n",
              "      <td>71</td>\n",
              "      <td>22</td>\n",
              "      <td>215</td>\n",
              "      <td>232</td>\n",
              "      <td>8</td>\n",
              "      <td>10</td>\n",
              "      <td>224</td>\n",
              "      <td>262</td>\n",
              "      <td>0</td>\n",
              "    </tr>\n",
              "    <tr>\n",
              "      <th>1</th>\n",
              "      <td>2</td>\n",
              "      <td>153</td>\n",
              "      <td>284</td>\n",
              "      <td>0</td>\n",
              "      <td>358</td>\n",
              "      <td>145</td>\n",
              "      <td>14</td>\n",
              "      <td>21</td>\n",
              "      <td>6</td>\n",
              "      <td>15</td>\n",
              "      <td>...</td>\n",
              "      <td>12</td>\n",
              "      <td>44</td>\n",
              "      <td>25</td>\n",
              "      <td>244</td>\n",
              "      <td>239</td>\n",
              "      <td>10</td>\n",
              "      <td>10</td>\n",
              "      <td>227</td>\n",
              "      <td>287</td>\n",
              "      <td>0</td>\n",
              "    </tr>\n",
              "    <tr>\n",
              "      <th>2</th>\n",
              "      <td>2</td>\n",
              "      <td>208</td>\n",
              "      <td>290</td>\n",
              "      <td>0</td>\n",
              "      <td>358</td>\n",
              "      <td>145</td>\n",
              "      <td>15</td>\n",
              "      <td>22</td>\n",
              "      <td>13</td>\n",
              "      <td>15</td>\n",
              "      <td>...</td>\n",
              "      <td>14</td>\n",
              "      <td>38</td>\n",
              "      <td>30</td>\n",
              "      <td>214</td>\n",
              "      <td>248</td>\n",
              "      <td>10</td>\n",
              "      <td>2</td>\n",
              "      <td>265</td>\n",
              "      <td>276</td>\n",
              "      <td>0</td>\n",
              "    </tr>\n",
              "    <tr>\n",
              "      <th>3</th>\n",
              "      <td>2</td>\n",
              "      <td>171</td>\n",
              "      <td>313</td>\n",
              "      <td>0</td>\n",
              "      <td>358</td>\n",
              "      <td>145</td>\n",
              "      <td>4</td>\n",
              "      <td>10</td>\n",
              "      <td>9</td>\n",
              "      <td>0</td>\n",
              "      <td>...</td>\n",
              "      <td>5</td>\n",
              "      <td>45</td>\n",
              "      <td>16</td>\n",
              "      <td>314</td>\n",
              "      <td>290</td>\n",
              "      <td>10</td>\n",
              "      <td>10</td>\n",
              "      <td>236</td>\n",
              "      <td>309</td>\n",
              "      <td>0</td>\n",
              "    </tr>\n",
              "    <tr>\n",
              "      <th>4</th>\n",
              "      <td>2</td>\n",
              "      <td>254</td>\n",
              "      <td>356</td>\n",
              "      <td>10</td>\n",
              "      <td>358</td>\n",
              "      <td>145</td>\n",
              "      <td>13</td>\n",
              "      <td>19</td>\n",
              "      <td>1</td>\n",
              "      <td>7</td>\n",
              "      <td>...</td>\n",
              "      <td>11</td>\n",
              "      <td>82</td>\n",
              "      <td>33</td>\n",
              "      <td>246</td>\n",
              "      <td>221</td>\n",
              "      <td>7</td>\n",
              "      <td>8</td>\n",
              "      <td>233</td>\n",
              "      <td>341</td>\n",
              "      <td>0</td>\n",
              "    </tr>\n",
              "  </tbody>\n",
              "</table>\n",
              "<p>5 rows × 21 columns</p>\n",
              "</div>\n",
              "      <button class=\"colab-df-convert\" onclick=\"convertToInteractive('df-29506707-a8f1-4a9f-a5a2-c35206535135')\"\n",
              "              title=\"Convert this dataframe to an interactive table.\"\n",
              "              style=\"display:none;\">\n",
              "        \n",
              "  <svg xmlns=\"http://www.w3.org/2000/svg\" height=\"24px\"viewBox=\"0 0 24 24\"\n",
              "       width=\"24px\">\n",
              "    <path d=\"M0 0h24v24H0V0z\" fill=\"none\"/>\n",
              "    <path d=\"M18.56 5.44l.94 2.06.94-2.06 2.06-.94-2.06-.94-.94-2.06-.94 2.06-2.06.94zm-11 1L8.5 8.5l.94-2.06 2.06-.94-2.06-.94L8.5 2.5l-.94 2.06-2.06.94zm10 10l.94 2.06.94-2.06 2.06-.94-2.06-.94-.94-2.06-.94 2.06-2.06.94z\"/><path d=\"M17.41 7.96l-1.37-1.37c-.4-.4-.92-.59-1.43-.59-.52 0-1.04.2-1.43.59L10.3 9.45l-7.72 7.72c-.78.78-.78 2.05 0 2.83L4 21.41c.39.39.9.59 1.41.59.51 0 1.02-.2 1.41-.59l7.78-7.78 2.81-2.81c.8-.78.8-2.07 0-2.86zM5.41 20L4 18.59l7.72-7.72 1.47 1.35L5.41 20z\"/>\n",
              "  </svg>\n",
              "      </button>\n",
              "      \n",
              "  <style>\n",
              "    .colab-df-container {\n",
              "      display:flex;\n",
              "      flex-wrap:wrap;\n",
              "      gap: 12px;\n",
              "    }\n",
              "\n",
              "    .colab-df-convert {\n",
              "      background-color: #E8F0FE;\n",
              "      border: none;\n",
              "      border-radius: 50%;\n",
              "      cursor: pointer;\n",
              "      display: none;\n",
              "      fill: #1967D2;\n",
              "      height: 32px;\n",
              "      padding: 0 0 0 0;\n",
              "      width: 32px;\n",
              "    }\n",
              "\n",
              "    .colab-df-convert:hover {\n",
              "      background-color: #E2EBFA;\n",
              "      box-shadow: 0px 1px 2px rgba(60, 64, 67, 0.3), 0px 1px 3px 1px rgba(60, 64, 67, 0.15);\n",
              "      fill: #174EA6;\n",
              "    }\n",
              "\n",
              "    [theme=dark] .colab-df-convert {\n",
              "      background-color: #3B4455;\n",
              "      fill: #D2E3FC;\n",
              "    }\n",
              "\n",
              "    [theme=dark] .colab-df-convert:hover {\n",
              "      background-color: #434B5C;\n",
              "      box-shadow: 0px 1px 3px 1px rgba(0, 0, 0, 0.15);\n",
              "      filter: drop-shadow(0px 1px 2px rgba(0, 0, 0, 0.3));\n",
              "      fill: #FFFFFF;\n",
              "    }\n",
              "  </style>\n",
              "\n",
              "      <script>\n",
              "        const buttonEl =\n",
              "          document.querySelector('#df-29506707-a8f1-4a9f-a5a2-c35206535135 button.colab-df-convert');\n",
              "        buttonEl.style.display =\n",
              "          google.colab.kernel.accessAllowed ? 'block' : 'none';\n",
              "\n",
              "        async function convertToInteractive(key) {\n",
              "          const element = document.querySelector('#df-29506707-a8f1-4a9f-a5a2-c35206535135');\n",
              "          const dataTable =\n",
              "            await google.colab.kernel.invokeFunction('convertToInteractive',\n",
              "                                                     [key], {});\n",
              "          if (!dataTable) return;\n",
              "\n",
              "          const docLinkHtml = 'Like what you see? Visit the ' +\n",
              "            '<a target=\"_blank\" href=https://colab.research.google.com/notebooks/data_table.ipynb>data table notebook</a>'\n",
              "            + ' to learn more about interactive tables.';\n",
              "          element.innerHTML = '';\n",
              "          dataTable['output_type'] = 'display_data';\n",
              "          await google.colab.output.renderOutput(dataTable, element);\n",
              "          const docLink = document.createElement('div');\n",
              "          docLink.innerHTML = docLinkHtml;\n",
              "          element.appendChild(docLink);\n",
              "        }\n",
              "      </script>\n",
              "    </div>\n",
              "  </div>\n",
              "  "
            ]
          },
          "metadata": {},
          "execution_count": 14
        }
      ],
      "source": [
        "X.head()"
      ]
    },
    {
      "cell_type": "code",
      "execution_count": 15,
      "id": "aa56c694",
      "metadata": {
        "id": "aa56c694"
      },
      "outputs": [],
      "source": [
        "y=df['RainTomorrow']"
      ]
    },
    {
      "cell_type": "code",
      "execution_count": 16,
      "id": "7dc3106b",
      "metadata": {
        "colab": {
          "base_uri": "https://localhost:8080/"
        },
        "id": "7dc3106b",
        "outputId": "7214e12f-4828-4a3d-e78e-891a564256b5"
      },
      "outputs": [
        {
          "output_type": "execute_result",
          "data": {
            "text/plain": [
              "0    0\n",
              "1    0\n",
              "2    0\n",
              "3    0\n",
              "4    0\n",
              "Name: RainTomorrow, dtype: int64"
            ]
          },
          "metadata": {},
          "execution_count": 16
        }
      ],
      "source": [
        "y.head()"
      ]
    },
    {
      "cell_type": "markdown",
      "id": "e46c6010",
      "metadata": {
        "id": "e46c6010"
      },
      "source": [
        "# Model Training"
      ]
    },
    {
      "cell_type": "code",
      "execution_count": 17,
      "id": "21fde47a",
      "metadata": {
        "id": "21fde47a"
      },
      "outputs": [],
      "source": [
        "from sklearn.model_selection import train_test_split"
      ]
    },
    {
      "cell_type": "code",
      "execution_count": 18,
      "id": "f2abdc54",
      "metadata": {
        "id": "f2abdc54"
      },
      "outputs": [],
      "source": [
        "X_train,X_test,y_train,y_test=train_test_split(X,y,test_size=0.2)"
      ]
    },
    {
      "cell_type": "code",
      "execution_count": 19,
      "id": "9828d822",
      "metadata": {
        "colab": {
          "base_uri": "https://localhost:8080/"
        },
        "id": "9828d822",
        "outputId": "79f2e8cc-0684-4aa4-e039-bc31c6262b0d"
      },
      "outputs": [
        {
          "output_type": "stream",
          "name": "stdout",
          "text": [
            "The shape of training is  (116368, 21)\n",
            "The shape of testing is  (29092, 21)\n"
          ]
        }
      ],
      "source": [
        "print(\"The shape of training is \",X_train.shape)\n",
        "print(\"The shape of testing is \",X_test.shape)"
      ]
    },
    {
      "cell_type": "code",
      "execution_count": 20,
      "id": "56248a39",
      "metadata": {
        "id": "56248a39"
      },
      "outputs": [],
      "source": [
        "from sklearn.tree import DecisionTreeClassifier"
      ]
    },
    {
      "cell_type": "code",
      "execution_count": 21,
      "id": "9352e411",
      "metadata": {
        "id": "9352e411"
      },
      "outputs": [],
      "source": [
        "tr=DecisionTreeClassifier(criterion='entropy')"
      ]
    },
    {
      "cell_type": "code",
      "execution_count": 22,
      "id": "5dc20362",
      "metadata": {
        "colab": {
          "base_uri": "https://localhost:8080/"
        },
        "id": "5dc20362",
        "outputId": "10443a1c-16a0-49f5-a221-0f84d45d1ada"
      },
      "outputs": [
        {
          "output_type": "execute_result",
          "data": {
            "text/plain": [
              "DecisionTreeClassifier(criterion='entropy')"
            ]
          },
          "metadata": {},
          "execution_count": 22
        }
      ],
      "source": [
        "tr.fit(X_train,y_train)"
      ]
    },
    {
      "cell_type": "code",
      "execution_count": 23,
      "id": "13f8dac4",
      "metadata": {
        "id": "13f8dac4"
      },
      "outputs": [],
      "source": [
        "y_pred=tr.predict(X_test)"
      ]
    },
    {
      "cell_type": "code",
      "execution_count": 24,
      "id": "a10abb8e",
      "metadata": {
        "colab": {
          "base_uri": "https://localhost:8080/"
        },
        "id": "a10abb8e",
        "outputId": "ca10beb6-0ebd-4dbe-df12-9dedafd9c67a"
      },
      "outputs": [
        {
          "output_type": "execute_result",
          "data": {
            "text/plain": [
              "array([0, 0, 0, 0, 0, 0, 0, 0, 0, 1])"
            ]
          },
          "metadata": {},
          "execution_count": 24
        }
      ],
      "source": [
        "y_pred[0:10]"
      ]
    },
    {
      "cell_type": "code",
      "execution_count": 25,
      "id": "f9a31b75",
      "metadata": {
        "colab": {
          "base_uri": "https://localhost:8080/"
        },
        "id": "f9a31b75",
        "outputId": "3b0c2a82-4964-496f-e337-83bc759581b4"
      },
      "outputs": [
        {
          "output_type": "execute_result",
          "data": {
            "text/plain": [
              "10568     0\n",
              "120465    0\n",
              "114622    0\n",
              "28764     0\n",
              "15318     0\n",
              "13412     0\n",
              "144923    0\n",
              "24313     0\n",
              "86078     0\n",
              "16036     0\n",
              "Name: RainTomorrow, dtype: int64"
            ]
          },
          "metadata": {},
          "execution_count": 25
        }
      ],
      "source": [
        "y_test[0:10]"
      ]
    },
    {
      "cell_type": "markdown",
      "id": "0446594d",
      "metadata": {
        "id": "0446594d"
      },
      "source": [
        "# Accuracy Metrices"
      ]
    },
    {
      "cell_type": "code",
      "execution_count": 26,
      "id": "bc902608",
      "metadata": {
        "id": "bc902608"
      },
      "outputs": [],
      "source": [
        "from sklearn import metrics"
      ]
    },
    {
      "cell_type": "code",
      "execution_count": 27,
      "id": "29f37ca9",
      "metadata": {
        "colab": {
          "base_uri": "https://localhost:8080/"
        },
        "id": "29f37ca9",
        "outputId": "6275ee99-f713-47ba-bcb7-f6742fd12bb7"
      },
      "outputs": [
        {
          "output_type": "stream",
          "name": "stdout",
          "text": [
            "The accuacy of the model is  0.7783583115633164\n"
          ]
        }
      ],
      "source": [
        "print(\"The accuacy of the model is \",metrics.accuracy_score(y_pred,y_test))"
      ]
    },
    {
      "cell_type": "markdown",
      "id": "618c9874",
      "metadata": {
        "id": "618c9874"
      },
      "source": [
        "# KNeighborsClassifier"
      ]
    },
    {
      "cell_type": "code",
      "execution_count": 28,
      "id": "d4355f21",
      "metadata": {
        "id": "d4355f21"
      },
      "outputs": [],
      "source": [
        "from sklearn.neighbors import KNeighborsClassifier"
      ]
    },
    {
      "cell_type": "code",
      "execution_count": 29,
      "id": "f4387e68",
      "metadata": {
        "id": "f4387e68"
      },
      "outputs": [],
      "source": [
        "neigh=KNeighborsClassifier(n_neighbors=3)"
      ]
    },
    {
      "cell_type": "code",
      "execution_count": 30,
      "id": "1dabe587",
      "metadata": {
        "colab": {
          "base_uri": "https://localhost:8080/"
        },
        "id": "1dabe587",
        "outputId": "72d2f1ee-c3f0-4228-ed26-080e79ea5fb4"
      },
      "outputs": [
        {
          "output_type": "execute_result",
          "data": {
            "text/plain": [
              "KNeighborsClassifier(n_neighbors=3)"
            ]
          },
          "metadata": {},
          "execution_count": 30
        }
      ],
      "source": [
        "neigh.fit(X_train,y_train)"
      ]
    },
    {
      "cell_type": "code",
      "execution_count": 31,
      "id": "cc287543",
      "metadata": {
        "id": "cc287543"
      },
      "outputs": [],
      "source": [
        "y_hat=neigh.predict(X_test)"
      ]
    },
    {
      "cell_type": "code",
      "execution_count": 32,
      "id": "7677504d",
      "metadata": {
        "colab": {
          "base_uri": "https://localhost:8080/"
        },
        "id": "7677504d",
        "outputId": "99e66819-dc11-4d4c-f0b9-9aa2006c21a1"
      },
      "outputs": [
        {
          "output_type": "execute_result",
          "data": {
            "text/plain": [
              "array([0, 0, 1, 0, 0, 0, 0, 0, 0, 0])"
            ]
          },
          "metadata": {},
          "execution_count": 32
        }
      ],
      "source": [
        "y_hat[0:10]"
      ]
    },
    {
      "cell_type": "code",
      "execution_count": 33,
      "id": "21d0a54c",
      "metadata": {
        "colab": {
          "base_uri": "https://localhost:8080/"
        },
        "id": "21d0a54c",
        "outputId": "db15d663-e398-4275-e7c2-0ac2f49a588b"
      },
      "outputs": [
        {
          "output_type": "execute_result",
          "data": {
            "text/plain": [
              "10568     0\n",
              "120465    0\n",
              "114622    0\n",
              "28764     0\n",
              "15318     0\n",
              "13412     0\n",
              "144923    0\n",
              "24313     0\n",
              "86078     0\n",
              "16036     0\n",
              "Name: RainTomorrow, dtype: int64"
            ]
          },
          "metadata": {},
          "execution_count": 33
        }
      ],
      "source": [
        "y_test[0:10]"
      ]
    },
    {
      "cell_type": "code",
      "execution_count": 34,
      "id": "21c98bb8",
      "metadata": {
        "colab": {
          "base_uri": "https://localhost:8080/"
        },
        "id": "21c98bb8",
        "outputId": "893af356-5d7b-4165-a484-ec1c2ccab2eb"
      },
      "outputs": [
        {
          "output_type": "stream",
          "name": "stdout",
          "text": [
            "The accuracy of the model is  0.8132132545029561\n"
          ]
        }
      ],
      "source": [
        "print(\"The accuracy of the model is \",metrics.accuracy_score(y_hat,y_test))"
      ]
    },
    {
      "cell_type": "code",
      "execution_count": 45,
      "id": "ef629df8",
      "metadata": {
        "id": "ef629df8"
      },
      "outputs": [],
      "source": [
        "from keras.layers import Dense, BatchNormalization, Dropout, LSTM\n",
        "from keras.models import Sequential\n",
        "from keras import callbacks\n"
      ]
    },
    {
      "cell_type": "code",
      "execution_count": 56,
      "id": "d6a65d2b",
      "metadata": {
        "id": "d6a65d2b",
        "colab": {
          "base_uri": "https://localhost:8080/"
        },
        "outputId": "b16b50e3-66fb-49e1-9b29-515e8d23cd1c"
      },
      "outputs": [
        {
          "output_type": "execute_result",
          "data": {
            "text/plain": [
              "(116368, 21)"
            ]
          },
          "metadata": {},
          "execution_count": 56
        }
      ],
      "source": [
        "X_train.shape"
      ]
    },
    {
      "cell_type": "code",
      "execution_count": 57,
      "id": "7fa02593",
      "metadata": {
        "id": "7fa02593",
        "colab": {
          "base_uri": "https://localhost:8080/"
        },
        "outputId": "a4899771-6f71-417f-d1fc-8ec18dc0d0fc"
      },
      "outputs": [
        {
          "output_type": "execute_result",
          "data": {
            "text/plain": [
              "(116368,)"
            ]
          },
          "metadata": {},
          "execution_count": 57
        }
      ],
      "source": [
        "y_train.shape"
      ]
    },
    {
      "cell_type": "code",
      "source": [
        "model = Sequential()\n",
        "model.add(Dense(12, input_shape=(21,), activation='relu'))\n",
        "model.add(Dense(8, activation='relu'))\n",
        "model.add(Dense(1, activation='sigmoid'))"
      ],
      "metadata": {
        "id": "1OEaASnk8Hkb"
      },
      "id": "1OEaASnk8Hkb",
      "execution_count": 72,
      "outputs": []
    },
    {
      "cell_type": "code",
      "source": [
        "model.compile(loss='binary_crossentropy', optimizer='adam', metrics=['accuracy'])"
      ],
      "metadata": {
        "id": "ntVXMEXM8cbr"
      },
      "id": "ntVXMEXM8cbr",
      "execution_count": 73,
      "outputs": []
    },
    {
      "cell_type": "code",
      "source": [
        "model.fit(X_train, y_train, epochs=5, batch_size=10)"
      ],
      "metadata": {
        "colab": {
          "base_uri": "https://localhost:8080/"
        },
        "id": "hT8rW5R28lgh",
        "outputId": "0ab860cc-94e3-4147-bbfb-1dd831989eda"
      },
      "id": "hT8rW5R28lgh",
      "execution_count": 74,
      "outputs": [
        {
          "output_type": "stream",
          "name": "stdout",
          "text": [
            "Epoch 1/5\n",
            "11637/11637 [==============================] - 32s 3ms/step - loss: -66.8811 - accuracy: 0.7756\n",
            "Epoch 2/5\n",
            "11637/11637 [==============================] - 31s 3ms/step - loss: -982.6981 - accuracy: 0.7662\n",
            "Epoch 3/5\n",
            "11637/11637 [==============================] - 32s 3ms/step - loss: -4756.9297 - accuracy: 0.7530\n",
            "Epoch 4/5\n",
            "11637/11637 [==============================] - 31s 3ms/step - loss: -13171.9150 - accuracy: 0.7409\n",
            "Epoch 5/5\n",
            "11637/11637 [==============================] - 31s 3ms/step - loss: -27567.9082 - accuracy: 0.7351\n"
          ]
        },
        {
          "output_type": "execute_result",
          "data": {
            "text/plain": [
              "<keras.callbacks.History at 0x7f21a62198b0>"
            ]
          },
          "metadata": {},
          "execution_count": 74
        }
      ]
    },
    {
      "cell_type": "code",
      "source": [],
      "metadata": {
        "id": "DtlIQhHrAzGV"
      },
      "id": "DtlIQhHrAzGV",
      "execution_count": null,
      "outputs": []
    }
  ],
  "metadata": {
    "kernelspec": {
      "display_name": "Python 3 (ipykernel)",
      "language": "python",
      "name": "python3"
    },
    "language_info": {
      "codemirror_mode": {
        "name": "ipython",
        "version": 3
      },
      "file_extension": ".py",
      "mimetype": "text/x-python",
      "name": "python",
      "nbconvert_exporter": "python",
      "pygments_lexer": "ipython3",
      "version": "3.9.12"
    },
    "colab": {
      "provenance": []
    },
    "accelerator": "GPU",
    "gpuClass": "standard"
  },
  "nbformat": 4,
  "nbformat_minor": 5
}