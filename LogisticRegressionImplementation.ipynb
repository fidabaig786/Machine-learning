{
 "cells": [
  {
   "cell_type": "markdown",
   "metadata": {},
   "source": [
    "# Logistic Regression Implementation"
   ]
  },
  {
   "cell_type": "code",
   "execution_count": 2,
   "metadata": {},
   "outputs": [
    {
     "name": "stderr",
     "output_type": "stream",
     "text": [
      "/Users/fidaalibaig/opt/anaconda3/lib/python3.9/site-packages/scipy/__init__.py:146: UserWarning: A NumPy version >=1.16.5 and <1.23.0 is required for this version of SciPy (detected version 1.23.3\n",
      "  warnings.warn(f\"A NumPy version >={np_minversion} and <{np_maxversion}\"\n"
     ]
    }
   ],
   "source": [
    "import numpy as np\n",
    "import matplotlib.pyplot as plt\n",
    "import seaborn as sns\n",
    "from sklearn import datasets\n",
    "from sklearn import linear_model"
   ]
  },
  {
   "cell_type": "markdown",
   "metadata": {},
   "source": [
    "#### We will use something called as an Iris dataset, which is a dataset of 3 flowers, but for our problem we will only take 2 classes of them."
   ]
  },
  {
   "cell_type": "code",
   "execution_count": 3,
   "metadata": {},
   "outputs": [
    {
     "data": {
      "text/plain": [
       "{'data': array([[5.1, 3.5, 1.4, 0.2],\n",
       "        [4.9, 3. , 1.4, 0.2],\n",
       "        [4.7, 3.2, 1.3, 0.2],\n",
       "        [4.6, 3.1, 1.5, 0.2],\n",
       "        [5. , 3.6, 1.4, 0.2],\n",
       "        [5.4, 3.9, 1.7, 0.4],\n",
       "        [4.6, 3.4, 1.4, 0.3],\n",
       "        [5. , 3.4, 1.5, 0.2],\n",
       "        [4.4, 2.9, 1.4, 0.2],\n",
       "        [4.9, 3.1, 1.5, 0.1],\n",
       "        [5.4, 3.7, 1.5, 0.2],\n",
       "        [4.8, 3.4, 1.6, 0.2],\n",
       "        [4.8, 3. , 1.4, 0.1],\n",
       "        [4.3, 3. , 1.1, 0.1],\n",
       "        [5.8, 4. , 1.2, 0.2],\n",
       "        [5.7, 4.4, 1.5, 0.4],\n",
       "        [5.4, 3.9, 1.3, 0.4],\n",
       "        [5.1, 3.5, 1.4, 0.3],\n",
       "        [5.7, 3.8, 1.7, 0.3],\n",
       "        [5.1, 3.8, 1.5, 0.3],\n",
       "        [5.4, 3.4, 1.7, 0.2],\n",
       "        [5.1, 3.7, 1.5, 0.4],\n",
       "        [4.6, 3.6, 1. , 0.2],\n",
       "        [5.1, 3.3, 1.7, 0.5],\n",
       "        [4.8, 3.4, 1.9, 0.2],\n",
       "        [5. , 3. , 1.6, 0.2],\n",
       "        [5. , 3.4, 1.6, 0.4],\n",
       "        [5.2, 3.5, 1.5, 0.2],\n",
       "        [5.2, 3.4, 1.4, 0.2],\n",
       "        [4.7, 3.2, 1.6, 0.2],\n",
       "        [4.8, 3.1, 1.6, 0.2],\n",
       "        [5.4, 3.4, 1.5, 0.4],\n",
       "        [5.2, 4.1, 1.5, 0.1],\n",
       "        [5.5, 4.2, 1.4, 0.2],\n",
       "        [4.9, 3.1, 1.5, 0.2],\n",
       "        [5. , 3.2, 1.2, 0.2],\n",
       "        [5.5, 3.5, 1.3, 0.2],\n",
       "        [4.9, 3.6, 1.4, 0.1],\n",
       "        [4.4, 3. , 1.3, 0.2],\n",
       "        [5.1, 3.4, 1.5, 0.2],\n",
       "        [5. , 3.5, 1.3, 0.3],\n",
       "        [4.5, 2.3, 1.3, 0.3],\n",
       "        [4.4, 3.2, 1.3, 0.2],\n",
       "        [5. , 3.5, 1.6, 0.6],\n",
       "        [5.1, 3.8, 1.9, 0.4],\n",
       "        [4.8, 3. , 1.4, 0.3],\n",
       "        [5.1, 3.8, 1.6, 0.2],\n",
       "        [4.6, 3.2, 1.4, 0.2],\n",
       "        [5.3, 3.7, 1.5, 0.2],\n",
       "        [5. , 3.3, 1.4, 0.2],\n",
       "        [7. , 3.2, 4.7, 1.4],\n",
       "        [6.4, 3.2, 4.5, 1.5],\n",
       "        [6.9, 3.1, 4.9, 1.5],\n",
       "        [5.5, 2.3, 4. , 1.3],\n",
       "        [6.5, 2.8, 4.6, 1.5],\n",
       "        [5.7, 2.8, 4.5, 1.3],\n",
       "        [6.3, 3.3, 4.7, 1.6],\n",
       "        [4.9, 2.4, 3.3, 1. ],\n",
       "        [6.6, 2.9, 4.6, 1.3],\n",
       "        [5.2, 2.7, 3.9, 1.4],\n",
       "        [5. , 2. , 3.5, 1. ],\n",
       "        [5.9, 3. , 4.2, 1.5],\n",
       "        [6. , 2.2, 4. , 1. ],\n",
       "        [6.1, 2.9, 4.7, 1.4],\n",
       "        [5.6, 2.9, 3.6, 1.3],\n",
       "        [6.7, 3.1, 4.4, 1.4],\n",
       "        [5.6, 3. , 4.5, 1.5],\n",
       "        [5.8, 2.7, 4.1, 1. ],\n",
       "        [6.2, 2.2, 4.5, 1.5],\n",
       "        [5.6, 2.5, 3.9, 1.1],\n",
       "        [5.9, 3.2, 4.8, 1.8],\n",
       "        [6.1, 2.8, 4. , 1.3],\n",
       "        [6.3, 2.5, 4.9, 1.5],\n",
       "        [6.1, 2.8, 4.7, 1.2],\n",
       "        [6.4, 2.9, 4.3, 1.3],\n",
       "        [6.6, 3. , 4.4, 1.4],\n",
       "        [6.8, 2.8, 4.8, 1.4],\n",
       "        [6.7, 3. , 5. , 1.7],\n",
       "        [6. , 2.9, 4.5, 1.5],\n",
       "        [5.7, 2.6, 3.5, 1. ],\n",
       "        [5.5, 2.4, 3.8, 1.1],\n",
       "        [5.5, 2.4, 3.7, 1. ],\n",
       "        [5.8, 2.7, 3.9, 1.2],\n",
       "        [6. , 2.7, 5.1, 1.6],\n",
       "        [5.4, 3. , 4.5, 1.5],\n",
       "        [6. , 3.4, 4.5, 1.6],\n",
       "        [6.7, 3.1, 4.7, 1.5],\n",
       "        [6.3, 2.3, 4.4, 1.3],\n",
       "        [5.6, 3. , 4.1, 1.3],\n",
       "        [5.5, 2.5, 4. , 1.3],\n",
       "        [5.5, 2.6, 4.4, 1.2],\n",
       "        [6.1, 3. , 4.6, 1.4],\n",
       "        [5.8, 2.6, 4. , 1.2],\n",
       "        [5. , 2.3, 3.3, 1. ],\n",
       "        [5.6, 2.7, 4.2, 1.3],\n",
       "        [5.7, 3. , 4.2, 1.2],\n",
       "        [5.7, 2.9, 4.2, 1.3],\n",
       "        [6.2, 2.9, 4.3, 1.3],\n",
       "        [5.1, 2.5, 3. , 1.1],\n",
       "        [5.7, 2.8, 4.1, 1.3],\n",
       "        [6.3, 3.3, 6. , 2.5],\n",
       "        [5.8, 2.7, 5.1, 1.9],\n",
       "        [7.1, 3. , 5.9, 2.1],\n",
       "        [6.3, 2.9, 5.6, 1.8],\n",
       "        [6.5, 3. , 5.8, 2.2],\n",
       "        [7.6, 3. , 6.6, 2.1],\n",
       "        [4.9, 2.5, 4.5, 1.7],\n",
       "        [7.3, 2.9, 6.3, 1.8],\n",
       "        [6.7, 2.5, 5.8, 1.8],\n",
       "        [7.2, 3.6, 6.1, 2.5],\n",
       "        [6.5, 3.2, 5.1, 2. ],\n",
       "        [6.4, 2.7, 5.3, 1.9],\n",
       "        [6.8, 3. , 5.5, 2.1],\n",
       "        [5.7, 2.5, 5. , 2. ],\n",
       "        [5.8, 2.8, 5.1, 2.4],\n",
       "        [6.4, 3.2, 5.3, 2.3],\n",
       "        [6.5, 3. , 5.5, 1.8],\n",
       "        [7.7, 3.8, 6.7, 2.2],\n",
       "        [7.7, 2.6, 6.9, 2.3],\n",
       "        [6. , 2.2, 5. , 1.5],\n",
       "        [6.9, 3.2, 5.7, 2.3],\n",
       "        [5.6, 2.8, 4.9, 2. ],\n",
       "        [7.7, 2.8, 6.7, 2. ],\n",
       "        [6.3, 2.7, 4.9, 1.8],\n",
       "        [6.7, 3.3, 5.7, 2.1],\n",
       "        [7.2, 3.2, 6. , 1.8],\n",
       "        [6.2, 2.8, 4.8, 1.8],\n",
       "        [6.1, 3. , 4.9, 1.8],\n",
       "        [6.4, 2.8, 5.6, 2.1],\n",
       "        [7.2, 3. , 5.8, 1.6],\n",
       "        [7.4, 2.8, 6.1, 1.9],\n",
       "        [7.9, 3.8, 6.4, 2. ],\n",
       "        [6.4, 2.8, 5.6, 2.2],\n",
       "        [6.3, 2.8, 5.1, 1.5],\n",
       "        [6.1, 2.6, 5.6, 1.4],\n",
       "        [7.7, 3. , 6.1, 2.3],\n",
       "        [6.3, 3.4, 5.6, 2.4],\n",
       "        [6.4, 3.1, 5.5, 1.8],\n",
       "        [6. , 3. , 4.8, 1.8],\n",
       "        [6.9, 3.1, 5.4, 2.1],\n",
       "        [6.7, 3.1, 5.6, 2.4],\n",
       "        [6.9, 3.1, 5.1, 2.3],\n",
       "        [5.8, 2.7, 5.1, 1.9],\n",
       "        [6.8, 3.2, 5.9, 2.3],\n",
       "        [6.7, 3.3, 5.7, 2.5],\n",
       "        [6.7, 3. , 5.2, 2.3],\n",
       "        [6.3, 2.5, 5. , 1.9],\n",
       "        [6.5, 3. , 5.2, 2. ],\n",
       "        [6.2, 3.4, 5.4, 2.3],\n",
       "        [5.9, 3. , 5.1, 1.8]]),\n",
       " 'target': array([0, 0, 0, 0, 0, 0, 0, 0, 0, 0, 0, 0, 0, 0, 0, 0, 0, 0, 0, 0, 0, 0,\n",
       "        0, 0, 0, 0, 0, 0, 0, 0, 0, 0, 0, 0, 0, 0, 0, 0, 0, 0, 0, 0, 0, 0,\n",
       "        0, 0, 0, 0, 0, 0, 1, 1, 1, 1, 1, 1, 1, 1, 1, 1, 1, 1, 1, 1, 1, 1,\n",
       "        1, 1, 1, 1, 1, 1, 1, 1, 1, 1, 1, 1, 1, 1, 1, 1, 1, 1, 1, 1, 1, 1,\n",
       "        1, 1, 1, 1, 1, 1, 1, 1, 1, 1, 1, 1, 2, 2, 2, 2, 2, 2, 2, 2, 2, 2,\n",
       "        2, 2, 2, 2, 2, 2, 2, 2, 2, 2, 2, 2, 2, 2, 2, 2, 2, 2, 2, 2, 2, 2,\n",
       "        2, 2, 2, 2, 2, 2, 2, 2, 2, 2, 2, 2, 2, 2, 2, 2, 2, 2]),\n",
       " 'frame': None,\n",
       " 'target_names': array(['setosa', 'versicolor', 'virginica'], dtype='<U10'),\n",
       " 'DESCR': '.. _iris_dataset:\\n\\nIris plants dataset\\n--------------------\\n\\n**Data Set Characteristics:**\\n\\n    :Number of Instances: 150 (50 in each of three classes)\\n    :Number of Attributes: 4 numeric, predictive attributes and the class\\n    :Attribute Information:\\n        - sepal length in cm\\n        - sepal width in cm\\n        - petal length in cm\\n        - petal width in cm\\n        - class:\\n                - Iris-Setosa\\n                - Iris-Versicolour\\n                - Iris-Virginica\\n                \\n    :Summary Statistics:\\n\\n    ============== ==== ==== ======= ===== ====================\\n                    Min  Max   Mean    SD   Class Correlation\\n    ============== ==== ==== ======= ===== ====================\\n    sepal length:   4.3  7.9   5.84   0.83    0.7826\\n    sepal width:    2.0  4.4   3.05   0.43   -0.4194\\n    petal length:   1.0  6.9   3.76   1.76    0.9490  (high!)\\n    petal width:    0.1  2.5   1.20   0.76    0.9565  (high!)\\n    ============== ==== ==== ======= ===== ====================\\n\\n    :Missing Attribute Values: None\\n    :Class Distribution: 33.3% for each of 3 classes.\\n    :Creator: R.A. Fisher\\n    :Donor: Michael Marshall (MARSHALL%PLU@io.arc.nasa.gov)\\n    :Date: July, 1988\\n\\nThe famous Iris database, first used by Sir R.A. Fisher. The dataset is taken\\nfrom Fisher\\'s paper. Note that it\\'s the same as in R, but not as in the UCI\\nMachine Learning Repository, which has two wrong data points.\\n\\nThis is perhaps the best known database to be found in the\\npattern recognition literature.  Fisher\\'s paper is a classic in the field and\\nis referenced frequently to this day.  (See Duda & Hart, for example.)  The\\ndata set contains 3 classes of 50 instances each, where each class refers to a\\ntype of iris plant.  One class is linearly separable from the other 2; the\\nlatter are NOT linearly separable from each other.\\n\\n.. topic:: References\\n\\n   - Fisher, R.A. \"The use of multiple measurements in taxonomic problems\"\\n     Annual Eugenics, 7, Part II, 179-188 (1936); also in \"Contributions to\\n     Mathematical Statistics\" (John Wiley, NY, 1950).\\n   - Duda, R.O., & Hart, P.E. (1973) Pattern Classification and Scene Analysis.\\n     (Q327.D83) John Wiley & Sons.  ISBN 0-471-22361-1.  See page 218.\\n   - Dasarathy, B.V. (1980) \"Nosing Around the Neighborhood: A New System\\n     Structure and Classification Rule for Recognition in Partially Exposed\\n     Environments\".  IEEE Transactions on Pattern Analysis and Machine\\n     Intelligence, Vol. PAMI-2, No. 1, 67-71.\\n   - Gates, G.W. (1972) \"The Reduced Nearest Neighbor Rule\".  IEEE Transactions\\n     on Information Theory, May 1972, 431-433.\\n   - See also: 1988 MLC Proceedings, 54-64.  Cheeseman et al\"s AUTOCLASS II\\n     conceptual clustering system finds 3 classes in the data.\\n   - Many, many more ...',\n",
       " 'feature_names': ['sepal length (cm)',\n",
       "  'sepal width (cm)',\n",
       "  'petal length (cm)',\n",
       "  'petal width (cm)'],\n",
       " 'filename': 'iris.csv',\n",
       " 'data_module': 'sklearn.datasets.data'}"
      ]
     },
     "execution_count": 3,
     "metadata": {},
     "output_type": "execute_result"
    }
   ],
   "source": [
    "iris = datasets.load_iris()\n",
    "iris"
   ]
  },
  {
   "cell_type": "code",
   "execution_count": 4,
   "metadata": {},
   "outputs": [],
   "source": [
    "X = iris.data[:, :2]\n",
    "y = (iris.target != 0) * 1"
   ]
  },
  {
   "cell_type": "markdown",
   "metadata": {},
   "source": [
    "#### Let us try to plot and see how our data lies. Whether can it be separated using a decision boundary."
   ]
  },
  {
   "cell_type": "code",
   "execution_count": 5,
   "metadata": {},
   "outputs": [
    {
     "data": {
      "image/png": "[encoded data removed]",
      "text/plain": [
       "<Figure size 720x432 with 1 Axes>"
      ]
     },
     "metadata": {
      "needs_background": "light"
     },
     "output_type": "display_data"
    }
   ],
   "source": [
    "plt.figure(figsize=(10, 6))\n",
    "plt.scatter(X[y == 0][:, 0], X[y == 0][:, 1], color='b', label='0')\n",
    "plt.scatter(X[y == 1][:, 0], X[y == 1][:, 1], color='r', label='1')\n",
    "plt.legend();"
   ]
  },
  {
   "cell_type": "markdown",
   "metadata": {},
   "source": [
    "# Implementing Logistic Regression from Scikit-Learn"
   ]
  },
  {
   "cell_type": "code",
   "execution_count": 11,
   "metadata": {},
   "outputs": [],
   "source": [
    "from sklearn.linear_model import LogisticRegression\n",
    "from sklearn.metrics import classification_report, confusion_matrix\n",
    "model = LogisticRegression(solver='liblinear', random_state=0)"
   ]
  },
  {
   "cell_type": "markdown",
   "metadata": {},
   "source": [
    "#### It also has the same method as fit to train the model"
   ]
  },
  {
   "cell_type": "code",
   "execution_count": 12,
   "metadata": {
    "scrolled": true
   },
   "outputs": [
    {
     "data": {
      "text/plain": [
       "LogisticRegression(random_state=0, solver='liblinear')"
      ]
     },
     "execution_count": 12,
     "metadata": {},
     "output_type": "execute_result"
    }
   ],
   "source": [
    "model.fit(X, y)\n"
   ]
  },
  {
   "cell_type": "markdown",
   "metadata": {},
   "source": [
    "#### Let us try to predict, and check the value of its prediction."
   ]
  },
  {
   "cell_type": "code",
   "execution_count": 13,
   "metadata": {},
   "outputs": [
    {
     "data": {
      "text/plain": [
       "array([[8.90851839e-01, 1.09148161e-01],\n",
       "       [6.45187510e-01, 3.54812490e-01],\n",
       "       [8.69400222e-01, 1.30599778e-01],\n",
       "       [8.51288377e-01, 1.48711623e-01],\n",
       "       [9.39818917e-01, 6.01810828e-02],\n",
       "       [9.50364297e-01, 4.96357033e-02],\n",
       "       [9.49998814e-01, 5.00011855e-02],\n",
       "       [8.75288203e-01, 1.24711797e-01],\n",
       "       [8.08902352e-01, 1.91097648e-01],\n",
       "       [7.30634124e-01, 2.69365876e-01],\n",
       "       [8.95888506e-01, 1.04111494e-01],\n",
       "       [9.20303724e-01, 7.96962761e-02],\n",
       "       [6.99920244e-01, 3.00079756e-01],\n",
       "       [8.90098824e-01, 1.09901176e-01],\n",
       "       [9.13422567e-01, 8.65774329e-02],\n",
       "       [9.85294062e-01, 1.47059381e-02],\n",
       "       [9.50364297e-01, 4.96357033e-02],\n",
       "       [8.90851839e-01, 1.09148161e-01],\n",
       "       [8.58798284e-01, 1.41201716e-01],\n",
       "       [9.64399433e-01, 3.56005674e-02],\n",
       "       [7.21654128e-01, 2.78345872e-01],\n",
       "       [9.47809512e-01, 5.21904883e-02],\n",
       "       [9.76891959e-01, 2.31080409e-02],\n",
       "       [7.85782889e-01, 2.14217111e-01],\n",
       "       [9.20303724e-01, 7.96962761e-02],\n",
       "       [5.86371415e-01, 4.13628585e-01],\n",
       "       [8.75288203e-01, 1.24711797e-01],\n",
       "       [8.64186423e-01, 1.35813577e-01],\n",
       "       [8.10093007e-01, 1.89906993e-01],\n",
       "       [8.69400222e-01, 1.30599778e-01],\n",
       "       [7.76746960e-01, 2.23253040e-01],\n",
       "       [7.21654128e-01, 2.78345872e-01],\n",
       "       [9.85934286e-01, 1.40657139e-02],\n",
       "       [9.80214857e-01, 1.97851426e-02],\n",
       "       [7.30634124e-01, 2.69365876e-01],\n",
       "       [7.59285516e-01, 2.40714484e-01],\n",
       "       [7.50935082e-01, 2.49064918e-01],\n",
       "       [9.52451807e-01, 4.75481932e-02],\n",
       "       [8.63277676e-01, 1.36722324e-01],\n",
       "       [8.45480028e-01, 1.54519972e-01],\n",
       "       [9.12810028e-01, 8.71899724e-02],\n",
       "       [2.30512949e-01, 7.69487051e-01],\n",
       "       [9.33551304e-01, 6.64486961e-02],\n",
       "       [9.12810028e-01, 8.71899724e-02],\n",
       "       [9.64399433e-01, 3.56005674e-02],\n",
       "       [6.99920244e-01, 3.00079756e-01],\n",
       "       [9.64399433e-01, 3.56005674e-02],\n",
       "       [8.95166150e-01, 1.04833850e-01],\n",
       "       [9.16927916e-01, 8.30720836e-02],\n",
       "       [8.24719685e-01, 1.75280315e-01],\n",
       "       [2.12365766e-02, 9.78763423e-01],\n",
       "       [8.81234812e-02, 9.11876519e-01],\n",
       "       [1.83160968e-02, 9.81683903e-01],\n",
       "       [2.42430691e-02, 9.75756931e-01],\n",
       "       [1.49896097e-02, 9.85010390e-01],\n",
       "       [1.00330080e-01, 8.99669920e-01],\n",
       "       [1.56051118e-01, 8.43948882e-01],\n",
       "       [1.41681623e-01, 8.58318377e-01],\n",
       "       [1.73890805e-02, 9.82610920e-01],\n",
       "       [2.06096035e-01, 7.93903965e-01],\n",
       "       [2.53346290e-02, 9.74665371e-01],\n",
       "       [1.31049150e-01, 8.68950850e-01],\n",
       "       [4.77390046e-03, 9.95226100e-01],\n",
       "       [5.78921504e-02, 9.42107850e-01],\n",
       "       [1.75852329e-01, 8.24147671e-01],\n",
       "       [2.97837526e-02, 9.70216247e-01],\n",
       "       [2.41437523e-01, 7.58562477e-01],\n",
       "       [5.50744804e-02, 9.44925520e-01],\n",
       "       [2.90695079e-03, 9.97093049e-01],\n",
       "       [4.13177334e-02, 9.58682267e-01],\n",
       "       [2.51254508e-01, 7.48745492e-01],\n",
       "       [3.95654851e-02, 9.60434515e-01],\n",
       "       [7.48728277e-03, 9.92512717e-01],\n",
       "       [3.95654851e-02, 9.60434515e-01],\n",
       "       [2.82930617e-02, 9.71706938e-01],\n",
       "       [2.57187409e-02, 9.74281259e-01],\n",
       "       [7.15903989e-03, 9.92840960e-01],\n",
       "       [2.01647848e-02, 9.79835215e-01],\n",
       "       [7.30624671e-02, 9.26937533e-01],\n",
       "       [4.77274863e-02, 9.52272514e-01],\n",
       "       [3.57364992e-02, 9.64263501e-01],\n",
       "       [3.57364992e-02, 9.64263501e-01],\n",
       "       [5.50744804e-02, 9.44925520e-01],\n",
       "       [3.42124991e-02, 9.65787501e-01],\n",
       "       [3.43692674e-01, 6.56307326e-01],\n",
       "       [3.67927568e-01, 6.32072432e-01],\n",
       "       [2.97837526e-02, 9.70216247e-01],\n",
       "       [3.37891743e-03, 9.96621083e-01],\n",
       "       [2.41437523e-01, 7.58562477e-01],\n",
       "       [5.23863235e-02, 9.47613676e-01],\n",
       "       [7.61805373e-02, 9.23819463e-01],\n",
       "       [8.39655593e-02, 9.16034441e-01],\n",
       "       [3.76041893e-02, 9.62395811e-01],\n",
       "       [7.94202753e-02, 9.20579725e-01],\n",
       "       [8.75050121e-02, 9.12494988e-01],\n",
       "       [1.98804829e-01, 8.01195171e-01],\n",
       "       [1.42623153e-01, 8.57376847e-01],\n",
       "       [4.57163689e-02, 9.54283631e-01],\n",
       "       [1.30172425e-01, 8.69827575e-01],\n",
       "       [1.00330080e-01, 8.99669920e-01],\n",
       "       [1.56051118e-01, 8.43948882e-01],\n",
       "       [5.50744804e-02, 9.44925520e-01],\n",
       "       [7.54487768e-03, 9.92455122e-01],\n",
       "       [3.60035147e-02, 9.63996485e-01],\n",
       "       [3.27512833e-02, 9.67248717e-01],\n",
       "       [2.18457777e-03, 9.97815422e-01],\n",
       "       [1.97577882e-01, 8.02422118e-01],\n",
       "       [3.08800654e-03, 9.96911993e-01],\n",
       "       [2.77894768e-03, 9.97221052e-01],\n",
       "       [6.12873880e-02, 9.38712612e-01],\n",
       "       [7.00623407e-02, 9.29937659e-01],\n",
       "       [1.29168828e-02, 9.87083117e-01],\n",
       "       [1.57907653e-02, 9.84209235e-01],\n",
       "       [3.25075742e-02, 9.67492426e-01],\n",
       "       [7.99866118e-02, 9.20013388e-01],\n",
       "       [8.81234812e-02, 9.11876519e-01],\n",
       "       [3.27512833e-02, 9.67248717e-01],\n",
       "       [4.01564692e-02, 9.59843531e-01],\n",
       "       [3.44636681e-04, 9.99655363e-01],\n",
       "       [4.77390046e-03, 9.95226100e-01],\n",
       "       [2.70775768e-02, 9.72922423e-01],\n",
       "       [1.25143825e-01, 8.74856175e-01],\n",
       "       [7.66511766e-04, 9.99233488e-01],\n",
       "       [1.65081934e-02, 9.83491807e-01],\n",
       "       [6.39375985e-02, 9.36062402e-01],\n",
       "       [1.30156965e-02, 9.86984304e-01],\n",
       "       [3.11168297e-02, 9.68883170e-01],\n",
       "       [8.39655593e-02, 9.16034441e-01],\n",
       "       [1.91460273e-02, 9.80853973e-01],\n",
       "       [5.89182940e-03, 9.94108171e-01],\n",
       "       [1.61630658e-03, 9.98383693e-01],\n",
       "       [2.47970753e-02, 9.75202925e-01],\n",
       "       [1.91460273e-02, 9.80853973e-01],\n",
       "       [2.44263835e-02, 9.75573616e-01],\n",
       "       [1.81777842e-02, 9.81822216e-01],\n",
       "       [1.70393041e-03, 9.98296070e-01],\n",
       "       [2.16188542e-01, 7.83811458e-01],\n",
       "       [6.08446932e-02, 9.39155307e-01],\n",
       "       [1.05205294e-01, 8.94794706e-01],\n",
       "       [1.83160968e-02, 9.81683903e-01],\n",
       "       [2.97837526e-02, 9.70216247e-01],\n",
       "       [1.83160968e-02, 9.81683903e-01],\n",
       "       [5.50744804e-02, 9.44925520e-01],\n",
       "       [3.44685347e-02, 9.65531465e-01],\n",
       "       [6.39375985e-02, 9.36062402e-01],\n",
       "       [2.01647848e-02, 9.79835215e-01],\n",
       "       [7.48728277e-03, 9.92512717e-01],\n",
       "       [3.27512833e-02, 9.67248717e-01],\n",
       "       [2.61333139e-01, 7.38666861e-01],\n",
       "       [1.31049150e-01, 8.68950850e-01]])"
      ]
     },
     "execution_count": 13,
     "metadata": {},
     "output_type": "execute_result"
    }
   ],
   "source": [
    "model.predict_proba(X)"
   ]
  },
  {
   "cell_type": "code",
   "execution_count": 14,
   "metadata": {},
   "outputs": [
    {
     "data": {
      "image/png": "[encoded data removed]",
      "text/plain": [
       "<Figure size 576x576 with 1 Axes>"
      ]
     },
     "metadata": {
      "needs_background": "light"
     },
     "output_type": "display_data"
    }
   ],
   "source": [
    "cm = confusion_matrix(y, model.predict(X))\n",
    "\n",
    "fig, ax = plt.subplots(figsize=(8, 8))\n",
    "ax.imshow(cm)\n",
    "ax.grid(False)\n",
    "ax.xaxis.set(ticks=(0, 1), ticklabels=('Predicted 0s', 'Predicted 1s'))\n",
    "ax.yaxis.set(ticks=(0, 1), ticklabels=('Actual 0s', 'Actual 1s'))\n",
    "ax.set_ylim(1.5, -0.5)\n",
    "for i in range(2):\n",
    "    for j in range(2):\n",
    "        ax.text(j, i, cm[i, j], ha='center', va='center', color='white')\n",
    "plt.show()\n"
   ]
  },
  {
   "cell_type": "code",
   "execution_count": 15,
   "metadata": {},
   "outputs": [
    {
     "name": "stdout",
     "output_type": "stream",
     "text": [
      "              precision    recall  f1-score   support\n",
      "\n",
      "           0       1.00      0.98      0.99        50\n",
      "           1       0.99      1.00      1.00       100\n",
      "\n",
      "    accuracy                           0.99       150\n",
      "   macro avg       1.00      0.99      0.99       150\n",
      "weighted avg       0.99      0.99      0.99       150\n",
      "\n"
     ]
    }
   ],
   "source": [
    "print(classification_report(y, model.predict(X)))"
   ]
  },
  {
   "cell_type": "markdown",
   "metadata": {},
   "source": [
    "#### The code is reference from this phenominal github page : https://github.com/martinpella/logistic-reg/blob/master/logistic_reg.ipynb\n"
   ]
  },
  {
   "cell_type": "code",
   "execution_count": null,
   "metadata": {},
   "outputs": [],
   "source": []
  }
 ],
 "metadata": {
  "kernelspec": {
   "display_name": "Python 3 (ipykernel)",
   "language": "python",
   "name": "python3"
  },
  "language_info": {
   "codemirror_mode": {
    "name": "ipython",
    "version": 3
   },
   "file_extension": ".py",
   "mimetype": "text/x-python",
   "name": "python",
   "nbconvert_exporter": "python",
   "pygments_lexer": "ipython3",
   "version": "3.9.12"
  }
 },
 "nbformat": 4,
 "nbformat_minor": 2
}
