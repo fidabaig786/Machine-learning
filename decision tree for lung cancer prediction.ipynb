{
 "cells": [
  {
   "cell_type": "code",
   "execution_count": 1,
   "id": "d31b2ad3",
   "metadata": {},
   "outputs": [],
   "source": [
    "import pandas as pd\n",
    "import matplotlib.pyplot as plt\n",
    "import numpy as np"
   ]
  },
  {
   "cell_type": "code",
   "execution_count": 2,
   "id": "18929c45",
   "metadata": {},
   "outputs": [],
   "source": [
    "df=pd.read_csv('lung_disease.csv')"
   ]
  },
  {
   "cell_type": "code",
   "execution_count": 3,
   "id": "33862c48",
   "metadata": {},
   "outputs": [
    {
     "data": {
      "text/html": [
       "<div>\n",
       "<style scoped>\n",
       "    .dataframe tbody tr th:only-of-type {\n",
       "        vertical-align: middle;\n",
       "    }\n",
       "\n",
       "    .dataframe tbody tr th {\n",
       "        vertical-align: top;\n",
       "    }\n",
       "\n",
       "    .dataframe thead th {\n",
       "        text-align: right;\n",
       "    }\n",
       "</style>\n",
       "<table border=\"1\" class=\"dataframe\">\n",
       "  <thead>\n",
       "    <tr style=\"text-align: right;\">\n",
       "      <th></th>\n",
       "      <th>Diagnosis</th>\n",
       "      <th>ID</th>\n",
       "      <th>Imagery_part_min</th>\n",
       "      <th>Imagery_part_avg</th>\n",
       "      <th>Real_part_min</th>\n",
       "      <th>Real_part_avg</th>\n",
       "      <th>Gender</th>\n",
       "      <th>Age</th>\n",
       "      <th>Smoking</th>\n",
       "    </tr>\n",
       "  </thead>\n",
       "  <tbody>\n",
       "    <tr>\n",
       "      <th>0</th>\n",
       "      <td>COPD</td>\n",
       "      <td>301-4</td>\n",
       "      <td>-320.61</td>\n",
       "      <td>-300.563531</td>\n",
       "      <td>-495.26</td>\n",
       "      <td>-464.171991</td>\n",
       "      <td>1</td>\n",
       "      <td>77</td>\n",
       "      <td>2</td>\n",
       "    </tr>\n",
       "    <tr>\n",
       "      <th>1</th>\n",
       "      <td>COPD</td>\n",
       "      <td>302-3</td>\n",
       "      <td>-325.39</td>\n",
       "      <td>-314.750360</td>\n",
       "      <td>-473.73</td>\n",
       "      <td>-469.263140</td>\n",
       "      <td>0</td>\n",
       "      <td>72</td>\n",
       "      <td>2</td>\n",
       "    </tr>\n",
       "    <tr>\n",
       "      <th>2</th>\n",
       "      <td>COPD</td>\n",
       "      <td>303-3</td>\n",
       "      <td>-323.00</td>\n",
       "      <td>-317.436056</td>\n",
       "      <td>-476.12</td>\n",
       "      <td>-471.897667</td>\n",
       "      <td>1</td>\n",
       "      <td>73</td>\n",
       "      <td>3</td>\n",
       "    </tr>\n",
       "    <tr>\n",
       "      <th>3</th>\n",
       "      <td>COPD</td>\n",
       "      <td>304-4</td>\n",
       "      <td>-327.78</td>\n",
       "      <td>-317.399670</td>\n",
       "      <td>-473.73</td>\n",
       "      <td>-468.856388</td>\n",
       "      <td>1</td>\n",
       "      <td>76</td>\n",
       "      <td>2</td>\n",
       "    </tr>\n",
       "    <tr>\n",
       "      <th>4</th>\n",
       "      <td>COPD</td>\n",
       "      <td>305-4</td>\n",
       "      <td>-325.39</td>\n",
       "      <td>-316.155785</td>\n",
       "      <td>-478.52</td>\n",
       "      <td>-472.869783</td>\n",
       "      <td>0</td>\n",
       "      <td>65</td>\n",
       "      <td>2</td>\n",
       "    </tr>\n",
       "    <tr>\n",
       "      <th>...</th>\n",
       "      <td>...</td>\n",
       "      <td>...</td>\n",
       "      <td>...</td>\n",
       "      <td>...</td>\n",
       "      <td>...</td>\n",
       "      <td>...</td>\n",
       "      <td>...</td>\n",
       "      <td>...</td>\n",
       "      <td>...</td>\n",
       "    </tr>\n",
       "    <tr>\n",
       "      <th>394</th>\n",
       "      <td>Infected</td>\n",
       "      <td>I176</td>\n",
       "      <td>NaN</td>\n",
       "      <td>NaN</td>\n",
       "      <td>NaN</td>\n",
       "      <td>NaN</td>\n",
       "      <td>0</td>\n",
       "      <td>49</td>\n",
       "      <td>2</td>\n",
       "    </tr>\n",
       "    <tr>\n",
       "      <th>395</th>\n",
       "      <td>Infected</td>\n",
       "      <td>I177</td>\n",
       "      <td>NaN</td>\n",
       "      <td>NaN</td>\n",
       "      <td>NaN</td>\n",
       "      <td>NaN</td>\n",
       "      <td>0</td>\n",
       "      <td>37</td>\n",
       "      <td>1</td>\n",
       "    </tr>\n",
       "    <tr>\n",
       "      <th>396</th>\n",
       "      <td>Infected</td>\n",
       "      <td>I178</td>\n",
       "      <td>NaN</td>\n",
       "      <td>NaN</td>\n",
       "      <td>NaN</td>\n",
       "      <td>NaN</td>\n",
       "      <td>0</td>\n",
       "      <td>29</td>\n",
       "      <td>1</td>\n",
       "    </tr>\n",
       "    <tr>\n",
       "      <th>397</th>\n",
       "      <td>Infected</td>\n",
       "      <td>I179</td>\n",
       "      <td>NaN</td>\n",
       "      <td>NaN</td>\n",
       "      <td>NaN</td>\n",
       "      <td>NaN</td>\n",
       "      <td>1</td>\n",
       "      <td>51</td>\n",
       "      <td>1</td>\n",
       "    </tr>\n",
       "    <tr>\n",
       "      <th>398</th>\n",
       "      <td>Infected</td>\n",
       "      <td>I180</td>\n",
       "      <td>NaN</td>\n",
       "      <td>NaN</td>\n",
       "      <td>NaN</td>\n",
       "      <td>NaN</td>\n",
       "      <td>0</td>\n",
       "      <td>40</td>\n",
       "      <td>1</td>\n",
       "    </tr>\n",
       "  </tbody>\n",
       "</table>\n",
       "<p>399 rows × 9 columns</p>\n",
       "</div>"
      ],
      "text/plain": [
       "    Diagnosis     ID  Imagery_part_min  Imagery_part_avg  Real_part_min  \\\n",
       "0        COPD  301-4           -320.61       -300.563531        -495.26   \n",
       "1        COPD  302-3           -325.39       -314.750360        -473.73   \n",
       "2        COPD  303-3           -323.00       -317.436056        -476.12   \n",
       "3        COPD  304-4           -327.78       -317.399670        -473.73   \n",
       "4        COPD  305-4           -325.39       -316.155785        -478.52   \n",
       "..        ...    ...               ...               ...            ...   \n",
       "394  Infected   I176               NaN               NaN            NaN   \n",
       "395  Infected   I177               NaN               NaN            NaN   \n",
       "396  Infected   I178               NaN               NaN            NaN   \n",
       "397  Infected   I179               NaN               NaN            NaN   \n",
       "398  Infected   I180               NaN               NaN            NaN   \n",
       "\n",
       "     Real_part_avg  Gender  Age  Smoking  \n",
       "0      -464.171991       1   77        2  \n",
       "1      -469.263140       0   72        2  \n",
       "2      -471.897667       1   73        3  \n",
       "3      -468.856388       1   76        2  \n",
       "4      -472.869783       0   65        2  \n",
       "..             ...     ...  ...      ...  \n",
       "394            NaN       0   49        2  \n",
       "395            NaN       0   37        1  \n",
       "396            NaN       0   29        1  \n",
       "397            NaN       1   51        1  \n",
       "398            NaN       0   40        1  \n",
       "\n",
       "[399 rows x 9 columns]"
      ]
     },
     "execution_count": 3,
     "metadata": {},
     "output_type": "execute_result"
    }
   ],
   "source": [
    "df"
   ]
  },
  {
   "cell_type": "markdown",
   "id": "7c888ed5",
   "metadata": {},
   "source": [
    "# data Preprocessing "
   ]
  },
  {
   "cell_type": "code",
   "execution_count": 5,
   "id": "05f860ff",
   "metadata": {},
   "outputs": [
    {
     "data": {
      "text/plain": [
       "Diagnosis             0\n",
       "ID                    0\n",
       "Imagery_part_min    299\n",
       "Imagery_part_avg    299\n",
       "Real_part_min       299\n",
       "Real_part_avg       299\n",
       "Gender                0\n",
       "Age                   0\n",
       "Smoking               0\n",
       "dtype: int64"
      ]
     },
     "execution_count": 5,
     "metadata": {},
     "output_type": "execute_result"
    }
   ],
   "source": [
    "df.isnull().sum()"
   ]
  },
  {
   "cell_type": "code",
   "execution_count": 7,
   "id": "6aa43c3b",
   "metadata": {},
   "outputs": [],
   "source": [
    "from sklearn.preprocessing import LabelEncoder"
   ]
  },
  {
   "cell_type": "code",
   "execution_count": 8,
   "id": "ffa6c9e9",
   "metadata": {},
   "outputs": [],
   "source": [
    "le=LabelEncoder()"
   ]
  },
  {
   "cell_type": "code",
   "execution_count": 10,
   "id": "6408d99e",
   "metadata": {},
   "outputs": [],
   "source": [
    "for i in df.columns:\n",
    "    df[i]=le.fit_transform(df[i])"
   ]
  },
  {
   "cell_type": "code",
   "execution_count": 11,
   "id": "43ddadab",
   "metadata": {},
   "outputs": [
    {
     "data": {
      "text/html": [
       "<div>\n",
       "<style scoped>\n",
       "    .dataframe tbody tr th:only-of-type {\n",
       "        vertical-align: middle;\n",
       "    }\n",
       "\n",
       "    .dataframe tbody tr th {\n",
       "        vertical-align: top;\n",
       "    }\n",
       "\n",
       "    .dataframe thead th {\n",
       "        text-align: right;\n",
       "    }\n",
       "</style>\n",
       "<table border=\"1\" class=\"dataframe\">\n",
       "  <thead>\n",
       "    <tr style=\"text-align: right;\">\n",
       "      <th></th>\n",
       "      <th>Diagnosis</th>\n",
       "      <th>ID</th>\n",
       "      <th>Imagery_part_min</th>\n",
       "      <th>Imagery_part_avg</th>\n",
       "      <th>Real_part_min</th>\n",
       "      <th>Real_part_avg</th>\n",
       "      <th>Gender</th>\n",
       "      <th>Age</th>\n",
       "      <th>Smoking</th>\n",
       "    </tr>\n",
       "  </thead>\n",
       "  <tbody>\n",
       "    <tr>\n",
       "      <th>0</th>\n",
       "      <td>1</td>\n",
       "      <td>95</td>\n",
       "      <td>6</td>\n",
       "      <td>79</td>\n",
       "      <td>9</td>\n",
       "      <td>68</td>\n",
       "      <td>1</td>\n",
       "      <td>60</td>\n",
       "      <td>1</td>\n",
       "    </tr>\n",
       "    <tr>\n",
       "      <th>1</th>\n",
       "      <td>1</td>\n",
       "      <td>96</td>\n",
       "      <td>4</td>\n",
       "      <td>44</td>\n",
       "      <td>14</td>\n",
       "      <td>32</td>\n",
       "      <td>0</td>\n",
       "      <td>55</td>\n",
       "      <td>1</td>\n",
       "    </tr>\n",
       "    <tr>\n",
       "      <th>2</th>\n",
       "      <td>1</td>\n",
       "      <td>97</td>\n",
       "      <td>5</td>\n",
       "      <td>31</td>\n",
       "      <td>13</td>\n",
       "      <td>12</td>\n",
       "      <td>1</td>\n",
       "      <td>56</td>\n",
       "      <td>2</td>\n",
       "    </tr>\n",
       "    <tr>\n",
       "      <th>3</th>\n",
       "      <td>1</td>\n",
       "      <td>98</td>\n",
       "      <td>3</td>\n",
       "      <td>33</td>\n",
       "      <td>14</td>\n",
       "      <td>36</td>\n",
       "      <td>1</td>\n",
       "      <td>59</td>\n",
       "      <td>1</td>\n",
       "    </tr>\n",
       "    <tr>\n",
       "      <th>4</th>\n",
       "      <td>1</td>\n",
       "      <td>99</td>\n",
       "      <td>4</td>\n",
       "      <td>39</td>\n",
       "      <td>12</td>\n",
       "      <td>4</td>\n",
       "      <td>0</td>\n",
       "      <td>48</td>\n",
       "      <td>1</td>\n",
       "    </tr>\n",
       "    <tr>\n",
       "      <th>...</th>\n",
       "      <td>...</td>\n",
       "      <td>...</td>\n",
       "      <td>...</td>\n",
       "      <td>...</td>\n",
       "      <td>...</td>\n",
       "      <td>...</td>\n",
       "      <td>...</td>\n",
       "      <td>...</td>\n",
       "      <td>...</td>\n",
       "    </tr>\n",
       "    <tr>\n",
       "      <th>394</th>\n",
       "      <td>3</td>\n",
       "      <td>394</td>\n",
       "      <td>19</td>\n",
       "      <td>96</td>\n",
       "      <td>27</td>\n",
       "      <td>98</td>\n",
       "      <td>0</td>\n",
       "      <td>32</td>\n",
       "      <td>1</td>\n",
       "    </tr>\n",
       "    <tr>\n",
       "      <th>395</th>\n",
       "      <td>3</td>\n",
       "      <td>395</td>\n",
       "      <td>19</td>\n",
       "      <td>96</td>\n",
       "      <td>27</td>\n",
       "      <td>98</td>\n",
       "      <td>0</td>\n",
       "      <td>20</td>\n",
       "      <td>0</td>\n",
       "    </tr>\n",
       "    <tr>\n",
       "      <th>396</th>\n",
       "      <td>3</td>\n",
       "      <td>396</td>\n",
       "      <td>19</td>\n",
       "      <td>96</td>\n",
       "      <td>27</td>\n",
       "      <td>98</td>\n",
       "      <td>0</td>\n",
       "      <td>12</td>\n",
       "      <td>0</td>\n",
       "    </tr>\n",
       "    <tr>\n",
       "      <th>397</th>\n",
       "      <td>3</td>\n",
       "      <td>397</td>\n",
       "      <td>19</td>\n",
       "      <td>96</td>\n",
       "      <td>27</td>\n",
       "      <td>98</td>\n",
       "      <td>1</td>\n",
       "      <td>34</td>\n",
       "      <td>0</td>\n",
       "    </tr>\n",
       "    <tr>\n",
       "      <th>398</th>\n",
       "      <td>3</td>\n",
       "      <td>398</td>\n",
       "      <td>19</td>\n",
       "      <td>96</td>\n",
       "      <td>27</td>\n",
       "      <td>98</td>\n",
       "      <td>0</td>\n",
       "      <td>23</td>\n",
       "      <td>0</td>\n",
       "    </tr>\n",
       "  </tbody>\n",
       "</table>\n",
       "<p>399 rows × 9 columns</p>\n",
       "</div>"
      ],
      "text/plain": [
       "     Diagnosis   ID  Imagery_part_min  Imagery_part_avg  Real_part_min  \\\n",
       "0            1   95                 6                79              9   \n",
       "1            1   96                 4                44             14   \n",
       "2            1   97                 5                31             13   \n",
       "3            1   98                 3                33             14   \n",
       "4            1   99                 4                39             12   \n",
       "..         ...  ...               ...               ...            ...   \n",
       "394          3  394                19                96             27   \n",
       "395          3  395                19                96             27   \n",
       "396          3  396                19                96             27   \n",
       "397          3  397                19                96             27   \n",
       "398          3  398                19                96             27   \n",
       "\n",
       "     Real_part_avg  Gender  Age  Smoking  \n",
       "0               68       1   60        1  \n",
       "1               32       0   55        1  \n",
       "2               12       1   56        2  \n",
       "3               36       1   59        1  \n",
       "4                4       0   48        1  \n",
       "..             ...     ...  ...      ...  \n",
       "394             98       0   32        1  \n",
       "395             98       0   20        0  \n",
       "396             98       0   12        0  \n",
       "397             98       1   34        0  \n",
       "398             98       0   23        0  \n",
       "\n",
       "[399 rows x 9 columns]"
      ]
     },
     "execution_count": 11,
     "metadata": {},
     "output_type": "execute_result"
    }
   ],
   "source": [
    "df"
   ]
  },
  {
   "cell_type": "code",
   "execution_count": 14,
   "id": "5c69ef97",
   "metadata": {},
   "outputs": [],
   "source": [
    "X=df.drop('Diagnosis',axis=1)"
   ]
  },
  {
   "cell_type": "code",
   "execution_count": 15,
   "id": "bb11f3ee",
   "metadata": {},
   "outputs": [
    {
     "data": {
      "text/html": [
       "<div>\n",
       "<style scoped>\n",
       "    .dataframe tbody tr th:only-of-type {\n",
       "        vertical-align: middle;\n",
       "    }\n",
       "\n",
       "    .dataframe tbody tr th {\n",
       "        vertical-align: top;\n",
       "    }\n",
       "\n",
       "    .dataframe thead th {\n",
       "        text-align: right;\n",
       "    }\n",
       "</style>\n",
       "<table border=\"1\" class=\"dataframe\">\n",
       "  <thead>\n",
       "    <tr style=\"text-align: right;\">\n",
       "      <th></th>\n",
       "      <th>ID</th>\n",
       "      <th>Imagery_part_min</th>\n",
       "      <th>Imagery_part_avg</th>\n",
       "      <th>Real_part_min</th>\n",
       "      <th>Real_part_avg</th>\n",
       "      <th>Gender</th>\n",
       "      <th>Age</th>\n",
       "      <th>Smoking</th>\n",
       "    </tr>\n",
       "  </thead>\n",
       "  <tbody>\n",
       "    <tr>\n",
       "      <th>0</th>\n",
       "      <td>95</td>\n",
       "      <td>6</td>\n",
       "      <td>79</td>\n",
       "      <td>9</td>\n",
       "      <td>68</td>\n",
       "      <td>1</td>\n",
       "      <td>60</td>\n",
       "      <td>1</td>\n",
       "    </tr>\n",
       "    <tr>\n",
       "      <th>1</th>\n",
       "      <td>96</td>\n",
       "      <td>4</td>\n",
       "      <td>44</td>\n",
       "      <td>14</td>\n",
       "      <td>32</td>\n",
       "      <td>0</td>\n",
       "      <td>55</td>\n",
       "      <td>1</td>\n",
       "    </tr>\n",
       "    <tr>\n",
       "      <th>2</th>\n",
       "      <td>97</td>\n",
       "      <td>5</td>\n",
       "      <td>31</td>\n",
       "      <td>13</td>\n",
       "      <td>12</td>\n",
       "      <td>1</td>\n",
       "      <td>56</td>\n",
       "      <td>2</td>\n",
       "    </tr>\n",
       "    <tr>\n",
       "      <th>3</th>\n",
       "      <td>98</td>\n",
       "      <td>3</td>\n",
       "      <td>33</td>\n",
       "      <td>14</td>\n",
       "      <td>36</td>\n",
       "      <td>1</td>\n",
       "      <td>59</td>\n",
       "      <td>1</td>\n",
       "    </tr>\n",
       "    <tr>\n",
       "      <th>4</th>\n",
       "      <td>99</td>\n",
       "      <td>4</td>\n",
       "      <td>39</td>\n",
       "      <td>12</td>\n",
       "      <td>4</td>\n",
       "      <td>0</td>\n",
       "      <td>48</td>\n",
       "      <td>1</td>\n",
       "    </tr>\n",
       "    <tr>\n",
       "      <th>...</th>\n",
       "      <td>...</td>\n",
       "      <td>...</td>\n",
       "      <td>...</td>\n",
       "      <td>...</td>\n",
       "      <td>...</td>\n",
       "      <td>...</td>\n",
       "      <td>...</td>\n",
       "      <td>...</td>\n",
       "    </tr>\n",
       "    <tr>\n",
       "      <th>394</th>\n",
       "      <td>394</td>\n",
       "      <td>19</td>\n",
       "      <td>96</td>\n",
       "      <td>27</td>\n",
       "      <td>98</td>\n",
       "      <td>0</td>\n",
       "      <td>32</td>\n",
       "      <td>1</td>\n",
       "    </tr>\n",
       "    <tr>\n",
       "      <th>395</th>\n",
       "      <td>395</td>\n",
       "      <td>19</td>\n",
       "      <td>96</td>\n",
       "      <td>27</td>\n",
       "      <td>98</td>\n",
       "      <td>0</td>\n",
       "      <td>20</td>\n",
       "      <td>0</td>\n",
       "    </tr>\n",
       "    <tr>\n",
       "      <th>396</th>\n",
       "      <td>396</td>\n",
       "      <td>19</td>\n",
       "      <td>96</td>\n",
       "      <td>27</td>\n",
       "      <td>98</td>\n",
       "      <td>0</td>\n",
       "      <td>12</td>\n",
       "      <td>0</td>\n",
       "    </tr>\n",
       "    <tr>\n",
       "      <th>397</th>\n",
       "      <td>397</td>\n",
       "      <td>19</td>\n",
       "      <td>96</td>\n",
       "      <td>27</td>\n",
       "      <td>98</td>\n",
       "      <td>1</td>\n",
       "      <td>34</td>\n",
       "      <td>0</td>\n",
       "    </tr>\n",
       "    <tr>\n",
       "      <th>398</th>\n",
       "      <td>398</td>\n",
       "      <td>19</td>\n",
       "      <td>96</td>\n",
       "      <td>27</td>\n",
       "      <td>98</td>\n",
       "      <td>0</td>\n",
       "      <td>23</td>\n",
       "      <td>0</td>\n",
       "    </tr>\n",
       "  </tbody>\n",
       "</table>\n",
       "<p>399 rows × 8 columns</p>\n",
       "</div>"
      ],
      "text/plain": [
       "      ID  Imagery_part_min  Imagery_part_avg  Real_part_min  Real_part_avg  \\\n",
       "0     95                 6                79              9             68   \n",
       "1     96                 4                44             14             32   \n",
       "2     97                 5                31             13             12   \n",
       "3     98                 3                33             14             36   \n",
       "4     99                 4                39             12              4   \n",
       "..   ...               ...               ...            ...            ...   \n",
       "394  394                19                96             27             98   \n",
       "395  395                19                96             27             98   \n",
       "396  396                19                96             27             98   \n",
       "397  397                19                96             27             98   \n",
       "398  398                19                96             27             98   \n",
       "\n",
       "     Gender  Age  Smoking  \n",
       "0         1   60        1  \n",
       "1         0   55        1  \n",
       "2         1   56        2  \n",
       "3         1   59        1  \n",
       "4         0   48        1  \n",
       "..      ...  ...      ...  \n",
       "394       0   32        1  \n",
       "395       0   20        0  \n",
       "396       0   12        0  \n",
       "397       1   34        0  \n",
       "398       0   23        0  \n",
       "\n",
       "[399 rows x 8 columns]"
      ]
     },
     "execution_count": 15,
     "metadata": {},
     "output_type": "execute_result"
    }
   ],
   "source": [
    "X"
   ]
  },
  {
   "cell_type": "code",
   "execution_count": 20,
   "id": "f175fa6c",
   "metadata": {},
   "outputs": [
    {
     "data": {
      "text/plain": [
       "<AxesSubplot:ylabel='Diagnosis'>"
      ]
     },
     "execution_count": 20,
     "metadata": {},
     "output_type": "execute_result"
    },
    {
     "data": {
      "image/png": "[encoded data removed]",
      "text/plain": [
       "<Figure size 432x288 with 1 Axes>"
      ]
     },
     "metadata": {},
     "output_type": "display_data"
    }
   ],
   "source": [
    "df['Diagnosis'].value_counts().plot(kind='pie')"
   ]
  },
  {
   "cell_type": "code",
   "execution_count": 24,
   "id": "66b79601",
   "metadata": {},
   "outputs": [],
   "source": [
    "y=df['Diagnosis']"
   ]
  },
  {
   "cell_type": "code",
   "execution_count": 25,
   "id": "269608f0",
   "metadata": {},
   "outputs": [],
   "source": [
    "from sklearn.model_selection import train_test_split"
   ]
  },
  {
   "cell_type": "code",
   "execution_count": 26,
   "id": "4755ec6c",
   "metadata": {},
   "outputs": [],
   "source": [
    "X_train,X_test,y_train,y_test=train_test_split(X,y,test_size=0.2)"
   ]
  },
  {
   "cell_type": "code",
   "execution_count": 28,
   "id": "fd46e193",
   "metadata": {},
   "outputs": [
    {
     "name": "stdout",
     "output_type": "stream",
     "text": [
      "The shape of training data is  (319, 8)\n",
      "The shape of testing data is  (80, 8)\n"
     ]
    }
   ],
   "source": [
    "print(\"The shape of training data is \",X_train.shape)\n",
    "print(\"The shape of testing data is \",X_test.shape)"
   ]
  },
  {
   "cell_type": "markdown",
   "id": "337a833a",
   "metadata": {},
   "source": [
    "# buliding model Decision Tree"
   ]
  },
  {
   "cell_type": "code",
   "execution_count": 36,
   "id": "8abbd23f",
   "metadata": {},
   "outputs": [],
   "source": [
    "from sklearn.tree import DecisionTreeClassifier"
   ]
  },
  {
   "cell_type": "code",
   "execution_count": 39,
   "id": "c606fd9c",
   "metadata": {},
   "outputs": [],
   "source": [
    "tr=DecisionTreeClassifier(criterion='entropy')"
   ]
  },
  {
   "cell_type": "code",
   "execution_count": 40,
   "id": "10f476d4",
   "metadata": {},
   "outputs": [
    {
     "data": {
      "text/plain": [
       "DecisionTreeClassifier(criterion='entropy')"
      ]
     },
     "execution_count": 40,
     "metadata": {},
     "output_type": "execute_result"
    }
   ],
   "source": [
    "tr.fit(X_train,y_train)"
   ]
  },
  {
   "cell_type": "code",
   "execution_count": 41,
   "id": "00e2f3b9",
   "metadata": {},
   "outputs": [],
   "source": [
    "y_pred=tr.predict(X_test)"
   ]
  },
  {
   "cell_type": "code",
   "execution_count": 43,
   "id": "0f62d0a4",
   "metadata": {},
   "outputs": [
    {
     "data": {
      "text/plain": [
       "array([1, 2, 2, 3, 3, 2, 3, 2, 2, 2])"
      ]
     },
     "execution_count": 43,
     "metadata": {},
     "output_type": "execute_result"
    }
   ],
   "source": [
    "y_pred[0:10]"
   ]
  },
  {
   "cell_type": "code",
   "execution_count": 44,
   "id": "0638b20d",
   "metadata": {},
   "outputs": [
    {
     "data": {
      "text/plain": [
       "63     1\n",
       "166    2\n",
       "84     2\n",
       "93     2\n",
       "331    3\n",
       "107    2\n",
       "335    3\n",
       "204    2\n",
       "140    2\n",
       "98     2\n",
       "Name: Diagnosis, dtype: int64"
      ]
     },
     "execution_count": 44,
     "metadata": {},
     "output_type": "execute_result"
    }
   ],
   "source": [
    "y_test[0:10]"
   ]
  },
  {
   "cell_type": "code",
   "execution_count": 45,
   "id": "95140948",
   "metadata": {},
   "outputs": [],
   "source": [
    "from sklearn import metrics"
   ]
  },
  {
   "cell_type": "code",
   "execution_count": 46,
   "id": "eedc3fe2",
   "metadata": {},
   "outputs": [
    {
     "name": "stdout",
     "output_type": "stream",
     "text": [
      "The accuracy of the model is  0.925\n"
     ]
    }
   ],
   "source": [
    "print(\"The accuracy of the model is \",metrics.accuracy_score(y_pred,y_test))"
   ]
  },
  {
   "cell_type": "code",
   "execution_count": 48,
   "id": "e2998606",
   "metadata": {},
   "outputs": [
    {
     "name": "stdout",
     "output_type": "stream",
     "text": [
      "The confussion matrix is \n",
      " [[20  0  0  0]\n",
      " [ 0 10  0  0]\n",
      " [ 1  3 37  1]\n",
      " [ 0  0  1  7]]\n"
     ]
    }
   ],
   "source": [
    "print(\"The confussion matrix is \\n\",metrics.confusion_matrix(y_pred,y_test))"
   ]
  },
  {
   "cell_type": "code",
   "execution_count": 49,
   "id": "f9ee5eaf",
   "metadata": {},
   "outputs": [
    {
     "name": "stdout",
     "output_type": "stream",
     "text": [
      "              precision    recall  f1-score   support\n",
      "\n",
      "           0       0.95      1.00      0.98        20\n",
      "           1       0.77      1.00      0.87        10\n",
      "           2       0.97      0.88      0.93        42\n",
      "           3       0.88      0.88      0.88         8\n",
      "\n",
      "    accuracy                           0.93        80\n",
      "   macro avg       0.89      0.94      0.91        80\n",
      "weighted avg       0.93      0.93      0.93        80\n",
      "\n"
     ]
    }
   ],
   "source": [
    "print(metrics.classification_report(y_pred,y_test))"
   ]
  },
  {
   "cell_type": "code",
   "execution_count": null,
   "id": "b2268f34",
   "metadata": {},
   "outputs": [],
   "source": []
  }
 ],
 "metadata": {
  "kernelspec": {
   "display_name": "Python 3 (ipykernel)",
   "language": "python",
   "name": "python3"
  },
  "language_info": {
   "codemirror_mode": {
    "name": "ipython",
    "version": 3
   },
   "file_extension": ".py",
   "mimetype": "text/x-python",
   "name": "python",
   "nbconvert_exporter": "python",
   "pygments_lexer": "ipython3",
   "version": "3.9.12"
  }
 },
 "nbformat": 4,
 "nbformat_minor": 5
}
