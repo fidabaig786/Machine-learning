{
 "cells": [
  {
   "cell_type": "code",
   "execution_count": 1,
   "metadata": {
    "colab": {
     "base_uri": "https://localhost:8080/",
     "height": 266
    },
    "id": "lAMygjipyINd",
    "outputId": "494520d0-e0de-4a01-e991-c5b762dce8fb"
   },
   "outputs": [
    {
     "data": {
      "image/png": "[encoded data removed]",
      "text/plain": [
       "<Figure size 432x288 with 1 Axes>"
      ]
     },
     "metadata": {
      "needs_background": "light"
     },
     "output_type": "display_data"
    }
   ],
   "source": [
    "import numpy as np\n",
    "import matplotlib.pyplot as plt\n",
    "from sklearn.preprocessing import StandardScaler\n",
    "from numpy.random import uniform\n",
    "from sklearn.datasets import make_blobs\n",
    "import seaborn as sns\n",
    "import random\n",
    "def euclidean(point, data):\n",
    "    \"\"\"\n",
    "    Euclidean distance between point & data.\n",
    "    Point has dimensions (m,), data has dimensions (n,m), and output will be of size (n,).\n",
    "    \"\"\"\n",
    "    return np.sqrt(np.sum((point - data)**2, axis=1))\n",
    "class KMeans:\n",
    "    def __init__(self, n_clusters=8, max_iter=300):\n",
    "        self.n_clusters = n_clusters\n",
    "        self.max_iter = max_iter\n",
    "    def fit(self, X_train):\n",
    "        # Initialize the centroids, using the \"k-means++\" method, where a random datapoint is selected as the first,\n",
    "        # then the rest are initialized w/ probabilities proportional to their distances to the first\n",
    "        # Pick a random point from train data for first centroid\n",
    "        self.centroids = [random.choice(X_train)]\n",
    "        for _ in range(self.n_clusters-1):\n",
    "            # Calculate distances from points to the centroids\n",
    "            dists = np.sum([euclidean(centroid, X_train) for centroid in self.centroids], axis=0)\n",
    "            # Normalize the distances\n",
    "            dists /= np.sum(dists)\n",
    "            # Choose remaining points based on their distances\n",
    "            new_centroid_idx, = np.random.choice(range(len(X_train)), size=1, p=dists)\n",
    "            self.centroids += [X_train[new_centroid_idx]]\n",
    "        # This initial method of randomly selecting centroid starts is less effective\n",
    "        # min_, max_ = np.min(X_train, axis=0), np.max(X_train, axis=0)\n",
    "        # self.centroids = [uniform(min_, max_) for _ in range(self.n_clusters)]\n",
    "        # Iterate, adjusting centroids until converged or until passed max_iter\n",
    "        iteration = 0\n",
    "        prev_centroids = None\n",
    "        while np.not_equal(self.centroids, prev_centroids).any() and iteration < self.max_iter:\n",
    "            # Sort each datapoint, assigning to nearest centroid\n",
    "            sorted_points = [[] for _ in range(self.n_clusters)]\n",
    "            for x in X_train:\n",
    "                dists = euclidean(x, self.centroids)\n",
    "                centroid_idx = np.argmin(dists)\n",
    "                sorted_points[centroid_idx].append(x)\n",
    "            # Push current centroids to previous, reassign centroids as mean of the points belonging to them\n",
    "            prev_centroids = self.centroids\n",
    "            self.centroids = [np.mean(cluster, axis=0) for cluster in sorted_points]\n",
    "            for i, centroid in enumerate(self.centroids):\n",
    "                if np.isnan(centroid).any():  # Catch any np.nans, resulting from a centroid having no points\n",
    "                    self.centroids[i] = prev_centroids[i]\n",
    "            iteration += 1\n",
    "    def evaluate(self, X):\n",
    "        centroids = []\n",
    "        centroid_idxs = []\n",
    "        for x in X:\n",
    "            dists = euclidean(x, self.centroids)\n",
    "            centroid_idx = np.argmin(dists)\n",
    "            centroids.append(self.centroids[centroid_idx])\n",
    "            centroid_idxs.append(centroid_idx)\n",
    "        return centroids, centroid_idxs\n",
    "# Create a dataset of 2D distributions\n",
    "centers = 5\n",
    "X_train, true_labels = make_blobs(n_samples=100, centers=centers, random_state=42)\n",
    "X_train = StandardScaler().fit_transform(X_train)\n",
    "# Fit centroids to dataset\n",
    "kmeans = KMeans(n_clusters=centers)\n",
    "kmeans.fit(X_train)\n",
    "# View results\n",
    "class_centers, classification = kmeans.evaluate(X_train)\n",
    "sns.scatterplot(x=[X[0] for X in X_train],\n",
    "                y=[X[1] for X in X_train],\n",
    "                hue=true_labels,\n",
    "                style=classification,\n",
    "                palette=\"deep\",\n",
    "                legend=None\n",
    "                )\n",
    "plt.plot([x for x, _ in kmeans.centroids],\n",
    "         [y for _, y in kmeans.centroids],\n",
    "         'k+',\n",
    "         markersize=10,\n",
    "         )\n",
    "plt.show()"
   ]
  },
  {
   "cell_type": "code",
   "execution_count": null,
   "metadata": {
    "id": "j_50tVpWyMQz"
   },
   "outputs": [],
   "source": []
  }
 ],
 "metadata": {
  "accelerator": "GPU",
  "colab": {
   "provenance": []
  },
  "gpuClass": "standard",
  "kernelspec": {
   "display_name": "Python 3 (ipykernel)",
   "language": "python",
   "name": "python3"
  },
  "language_info": {
   "codemirror_mode": {
    "name": "ipython",
    "version": 3
   },
   "file_extension": ".py",
   "mimetype": "text/x-python",
   "name": "python",
   "nbconvert_exporter": "python",
   "pygments_lexer": "ipython3",
   "version": "3.9.12"
  }
 },
 "nbformat": 4,
 "nbformat_minor": 1
}
